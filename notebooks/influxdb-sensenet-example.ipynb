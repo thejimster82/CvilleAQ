{
 "cells": [
  {
   "cell_type": "markdown",
   "metadata": {},
   "source": [
    "# Influxdb notebook for SDS-sensenet"
   ]
  },
  {
   "cell_type": "markdown",
   "metadata": {},
   "source": [
    "Before getting started, make sure to install the 'InfluxDB-client' library:\n",
    "\n",
    "`pip3 install git+https://github.com/influxdata/influxdb-client-python.git`"
   ]
  },
  {
   "cell_type": "code",
   "execution_count": 1,
   "metadata": {},
   "outputs": [],
   "source": [
    "import requests\n",
    "import pandas as pd\n",
    "import influxdb\n",
    "\n",
    "from datetime import datetime\n",
    "from requests.packages.urllib3.exceptions import InsecureRequestWarning\n",
    "\n",
    "requests.packages.urllib3.disable_warnings(InsecureRequestWarning)"
   ]
  },
  {
   "cell_type": "markdown",
   "metadata": {},
   "source": [
    "Modify 'hostname', 'user' and 'passwd' with your credentials, not mine :0)"
   ]
  },
  {
   "cell_type": "code",
   "execution_count": 2,
   "metadata": {},
   "outputs": [],
   "source": [
    "hostname = ''\n",
    "user = '' \n",
    "passwd = ''\n",
    "client = influxdb.DataFrameClient(hostname, 8086, ssl=True, username=user, password=passwd)"
   ]
  },
  {
   "cell_type": "markdown",
   "metadata": {},
   "source": [
    "We are now connected, so the **fun** will start. First, let's query for the available DBs:"
   ]
  },
  {
   "cell_type": "code",
   "execution_count": 3,
   "metadata": {},
   "outputs": [
    {
     "data": {
      "text/plain": [
       "ResultSet({'('databases', None)': [{'name': 'sample_database'}, {'name': '_internal'}, {'name': 'sensornet_db'}, {'name': 'sensenet_coords'}]})"
      ]
     },
     "execution_count": 3,
     "metadata": {},
     "output_type": "execute_result"
    }
   ],
   "source": [
    "client.query(\"show databases;\")"
   ]
  },
  {
   "cell_type": "code",
   "execution_count": null,
   "metadata": {},
   "outputs": [],
   "source": [
    "coords = client.query(\"select * from coords\", database=\"sensenet_coords\")\n",
    "df_coords = coords['coords']\n",
    "df_coords = df_coords.reset_index(drop=True)\n",
    "df_coords"
   ]
  },
  {
   "cell_type": "code",
   "execution_count": 5,
   "metadata": {},
   "outputs": [
    {
     "data": {
      "text/plain": [
       "ResultSet({'('measurements', None)': [{'name': 'mqtt_consumer'}, {'name': 'sds'}, {'name': 'sds-sensenet'}, {'name': 'sensenet-test'}, {'name': 'sensenet-test-proto'}, {'name': 'user_coords'}]})"
      ]
     },
     "execution_count": 5,
     "metadata": {},
     "output_type": "execute_result"
    }
   ],
   "source": [
    "client.query(\"show measurements\", database=\"sensornet_db\")"
   ]
  },
  {
   "cell_type": "code",
   "execution_count": 6,
   "metadata": {},
   "outputs": [
    {
     "data": {
      "text/html": [
       "<div>\n",
       "<style scoped>\n",
       "    .dataframe tbody tr th:only-of-type {\n",
       "        vertical-align: middle;\n",
       "    }\n",
       "\n",
       "    .dataframe tbody tr th {\n",
       "        vertical-align: top;\n",
       "    }\n",
       "\n",
       "    .dataframe thead th {\n",
       "        text-align: right;\n",
       "    }\n",
       "</style>\n",
       "<table border=\"1\" class=\"dataframe\">\n",
       "  <thead>\n",
       "    <tr style=\"text-align: right;\">\n",
       "      <th></th>\n",
       "      <th>dev_id</th>\n",
       "      <th>pm25</th>\n",
       "      <th>pm10</th>\n",
       "      <th>co2</th>\n",
       "      <th>temp</th>\n",
       "      <th>humidity</th>\n",
       "      <th>gtw_id</th>\n",
       "      <th>rssi</th>\n",
       "      <th>snr</th>\n",
       "    </tr>\n",
       "  </thead>\n",
       "  <tbody>\n",
       "    <tr>\n",
       "      <th>2020-02-03 00:36:03.779007152+00:00</th>\n",
       "      <td>sbox6</td>\n",
       "      <td>0</td>\n",
       "      <td>0</td>\n",
       "      <td>144</td>\n",
       "      <td>12.52</td>\n",
       "      <td>62.89</td>\n",
       "      <td>sds-gateway-3</td>\n",
       "      <td>-14</td>\n",
       "      <td>9.00</td>\n",
       "    </tr>\n",
       "    <tr>\n",
       "      <th>2020-02-03 00:39:38.171639705+00:00</th>\n",
       "      <td>sbox11</td>\n",
       "      <td>0</td>\n",
       "      <td>0</td>\n",
       "      <td>567</td>\n",
       "      <td>19.44</td>\n",
       "      <td>58.00</td>\n",
       "      <td>sds-gateway-1</td>\n",
       "      <td>-61</td>\n",
       "      <td>11.25</td>\n",
       "    </tr>\n",
       "    <tr>\n",
       "      <th>2020-02-03 00:39:57.440747505+00:00</th>\n",
       "      <td>sbox10</td>\n",
       "      <td>1</td>\n",
       "      <td>1</td>\n",
       "      <td>491</td>\n",
       "      <td>16.99</td>\n",
       "      <td>51.67</td>\n",
       "      <td>center-for-civic-innovation</td>\n",
       "      <td>-69</td>\n",
       "      <td>10.50</td>\n",
       "    </tr>\n",
       "    <tr>\n",
       "      <th>2020-02-03 00:40:39.755830804+00:00</th>\n",
       "      <td>sbox3</td>\n",
       "      <td>0</td>\n",
       "      <td>0</td>\n",
       "      <td>1247</td>\n",
       "      <td>19.29</td>\n",
       "      <td>37.97</td>\n",
       "      <td>sds-gateway-1</td>\n",
       "      <td>-60</td>\n",
       "      <td>12.25</td>\n",
       "    </tr>\n",
       "    <tr>\n",
       "      <th>2020-02-03 00:41:41.145261920+00:00</th>\n",
       "      <td>sbox4</td>\n",
       "      <td>0</td>\n",
       "      <td>0</td>\n",
       "      <td>365</td>\n",
       "      <td>17.36</td>\n",
       "      <td>43.69</td>\n",
       "      <td>sds-alex-apt</td>\n",
       "      <td>-45</td>\n",
       "      <td>8.50</td>\n",
       "    </tr>\n",
       "  </tbody>\n",
       "</table>\n",
       "</div>"
      ],
      "text/plain": [
       "                                     dev_id  pm25  pm10   co2   temp  \\\n",
       "2020-02-03 00:36:03.779007152+00:00   sbox6     0     0   144  12.52   \n",
       "2020-02-03 00:39:38.171639705+00:00  sbox11     0     0   567  19.44   \n",
       "2020-02-03 00:39:57.440747505+00:00  sbox10     1     1   491  16.99   \n",
       "2020-02-03 00:40:39.755830804+00:00   sbox3     0     0  1247  19.29   \n",
       "2020-02-03 00:41:41.145261920+00:00   sbox4     0     0   365  17.36   \n",
       "\n",
       "                                     humidity                       gtw_id  \\\n",
       "2020-02-03 00:36:03.779007152+00:00     62.89                sds-gateway-3   \n",
       "2020-02-03 00:39:38.171639705+00:00     58.00                sds-gateway-1   \n",
       "2020-02-03 00:39:57.440747505+00:00     51.67  center-for-civic-innovation   \n",
       "2020-02-03 00:40:39.755830804+00:00     37.97                sds-gateway-1   \n",
       "2020-02-03 00:41:41.145261920+00:00     43.69                 sds-alex-apt   \n",
       "\n",
       "                                     rssi    snr  \n",
       "2020-02-03 00:36:03.779007152+00:00   -14   9.00  \n",
       "2020-02-03 00:39:38.171639705+00:00   -61  11.25  \n",
       "2020-02-03 00:39:57.440747505+00:00   -69  10.50  \n",
       "2020-02-03 00:40:39.755830804+00:00   -60  12.25  \n",
       "2020-02-03 00:41:41.145261920+00:00   -45   8.50  "
      ]
     },
     "execution_count": 6,
     "metadata": {},
     "output_type": "execute_result"
    }
   ],
   "source": [
    "complete_df = client.query(\"select * from \\\"sensenet-test\\\"\", database=\"sensornet_db\")\n",
    "df = complete_df['sensenet-test']\n",
    "df[['dev_id','pm25', 'pm10', 'co2', 'temp', 'humidity', 'gtw_id', 'rssi', 'snr']].head()"
   ]
  },
  {
   "cell_type": "markdown",
   "metadata": {},
   "source": [
    "Now, if we want to query for just a certain portion of the dataset or a particular time slice: (remember the time is in [RFC3339](https://docs.influxdata.com/influxdb/v1.7/query_language/data_exploration/#specify-a-time-range-with-epoch-timestamps))"
   ]
  },
  {
   "cell_type": "code",
   "execution_count": 7,
   "metadata": {},
   "outputs": [
    {
     "data": {
      "text/plain": [
       "defaultdict(list, {'sensenet-test':                                       co2\n",
       "             2020-02-03 00:39:38.171639705+00:00   567\n",
       "             2020-02-03 00:54:38.936284266+00:00   565\n",
       "             2020-02-03 01:09:37.977429403+00:00   569\n",
       "             2020-02-03 01:24:38.046949854+00:00   600\n",
       "             2020-02-03 01:39:37.975148414+00:00  4781\n",
       "             2020-02-03 01:54:38.045715460+00:00  4420\n",
       "             2020-02-03 02:09:37.960825143+00:00  3761\n",
       "             2020-02-03 02:24:38.006061482+00:00  3590\n",
       "             2020-02-03 02:39:37.950974992+00:00  2886\n",
       "             2020-02-03 02:54:37.901787132+00:00  2468\n",
       "             2020-02-03 03:09:37.938877330+00:00  2129\n",
       "             2020-02-03 03:24:37.889133783+00:00  1852\n",
       "             2020-02-03 03:39:37.832734317+00:00  1589\n",
       "             2020-02-03 03:54:37.869381204+00:00  1395\n",
       "             2020-02-03 04:09:37.822839993+00:00  1324\n",
       "             2020-02-03 04:24:37.859874065+00:00  1206\n",
       "             2020-02-03 04:39:37.808492784+00:00  1120\n",
       "             2020-02-03 04:54:37.852900776+00:00  1066\n",
       "             2020-02-03 05:09:37.799368105+00:00  1019\n",
       "             2020-02-03 05:24:37.767920870+00:00   960\n",
       "             2020-02-03 05:39:37.791570582+00:00   921\n",
       "             2020-02-03 05:54:37.739881819+00:00   868\n",
       "             2020-02-03 06:09:37.875441095+00:00   846\n",
       "             2020-02-03 06:24:37.723475983+00:00   785\n",
       "             2020-02-03 06:39:37.666367578+00:00   772\n",
       "             2020-02-03 06:54:38.720212680+00:00   742\n",
       "             2020-02-03 07:09:37.666645449+00:00   724\n",
       "             2020-02-03 07:24:37.698207975+00:00   695\n",
       "             2020-02-03 07:39:37.647586701+00:00   656\n",
       "             2020-02-03 07:54:37.608558922+00:00   636\n",
       "             ...                                   ...\n",
       "             2020-02-19 21:12:05.709429236+00:00   387\n",
       "             2020-02-19 21:27:05.668419988+00:00   390\n",
       "             2020-02-19 21:42:05.701883293+00:00   383\n",
       "             2020-02-19 21:57:05.639447474+00:00   401\n",
       "             2020-02-19 22:12:05.679725309+00:00   395\n",
       "             2020-02-19 22:27:05.637677867+00:00   397\n",
       "             2020-02-19 22:42:05.666805575+00:00   394\n",
       "             2020-02-19 22:57:05.613956256+00:00   398\n",
       "             2020-02-19 23:12:05.654210345+00:00   397\n",
       "             2020-02-19 23:27:05.609050932+00:00   399\n",
       "             2020-02-19 23:42:05.547425541+00:00   403\n",
       "             2020-02-19 23:57:05.586634888+00:00   410\n",
       "             2020-02-20 00:12:05.536613519+00:00   406\n",
       "             2020-02-20 00:27:05.567293172+00:00   413\n",
       "             2020-02-20 00:42:06.514848091+00:00   427\n",
       "             2020-02-20 00:57:05.564645895+00:00   428\n",
       "             2020-02-20 01:12:05.504108382+00:00   440\n",
       "             2020-02-20 01:27:05.550806064+00:00   454\n",
       "             2020-02-20 01:42:05.488329971+00:00   465\n",
       "             2020-02-20 01:57:05.448378391+00:00   467\n",
       "             2020-02-20 02:12:05.467126354+00:00   470\n",
       "             2020-02-20 02:27:05.412754115+00:00   485\n",
       "             2020-02-20 02:42:05.460351752+00:00   492\n",
       "             2020-02-20 02:57:05.400710718+00:00   498\n",
       "             2020-02-20 03:12:05.450205890+00:00   495\n",
       "             2020-02-20 03:27:06.408776830+00:00   507\n",
       "             2020-02-20 03:42:05.419127045+00:00   510\n",
       "             2020-02-20 03:57:05.334527023+00:00   520\n",
       "             2020-02-20 04:12:05.340350912+00:00   530\n",
       "             2020-02-20 04:27:05.377206814+00:00   520\n",
       "             \n",
       "             [1546 rows x 1 columns]})"
      ]
     },
     "execution_count": 7,
     "metadata": {},
     "output_type": "execute_result"
    }
   ],
   "source": [
    "timeslice = client.query(\"select \\\"co2\\\" FROM \\\"sensenet-test\\\" \\\n",
    "                         WHERE \\\"dev_id\\\" = 'sbox11' \\\n",
    "                         AND time >= '2020-02-01' AND time <= '2020-02-20 12:30:00'\", \\\n",
    "                         database=\"sensornet_db\")\n",
    "timeslice"
   ]
  },
  {
   "cell_type": "markdown",
   "metadata": {},
   "source": [
    "Or, to query for all the sensorboxes with regular expressions + more intuitive time slicers!\n",
    "\n",
    "One could use now() - 1h(our), 1w(eek), etc."
   ]
  },
  {
   "cell_type": "code",
   "execution_count": 8,
   "metadata": {},
   "outputs": [
    {
     "data": {
      "text/html": [
       "<div>\n",
       "<style scoped>\n",
       "    .dataframe tbody tr th:only-of-type {\n",
       "        vertical-align: middle;\n",
       "    }\n",
       "\n",
       "    .dataframe tbody tr th {\n",
       "        vertical-align: top;\n",
       "    }\n",
       "\n",
       "    .dataframe thead th {\n",
       "        text-align: right;\n",
       "    }\n",
       "</style>\n",
       "<table border=\"1\" class=\"dataframe\">\n",
       "  <thead>\n",
       "    <tr style=\"text-align: right;\">\n",
       "      <th></th>\n",
       "      <th>pm25</th>\n",
       "      <th>pm10</th>\n",
       "      <th>dev_id</th>\n",
       "    </tr>\n",
       "  </thead>\n",
       "  <tbody>\n",
       "    <tr>\n",
       "      <th>2020-02-03 00:36:03.779007152+00:00</th>\n",
       "      <td>0</td>\n",
       "      <td>0</td>\n",
       "      <td>sbox6</td>\n",
       "    </tr>\n",
       "    <tr>\n",
       "      <th>2020-02-03 00:39:38.171639705+00:00</th>\n",
       "      <td>0</td>\n",
       "      <td>0</td>\n",
       "      <td>sbox11</td>\n",
       "    </tr>\n",
       "    <tr>\n",
       "      <th>2020-02-03 00:39:57.440747505+00:00</th>\n",
       "      <td>1</td>\n",
       "      <td>1</td>\n",
       "      <td>sbox10</td>\n",
       "    </tr>\n",
       "    <tr>\n",
       "      <th>2020-02-03 00:40:39.755830804+00:00</th>\n",
       "      <td>0</td>\n",
       "      <td>0</td>\n",
       "      <td>sbox3</td>\n",
       "    </tr>\n",
       "    <tr>\n",
       "      <th>2020-02-03 00:41:41.145261920+00:00</th>\n",
       "      <td>0</td>\n",
       "      <td>0</td>\n",
       "      <td>sbox4</td>\n",
       "    </tr>\n",
       "  </tbody>\n",
       "</table>\n",
       "</div>"
      ],
      "text/plain": [
       "                                     pm25  pm10  dev_id\n",
       "2020-02-03 00:36:03.779007152+00:00     0     0   sbox6\n",
       "2020-02-03 00:39:38.171639705+00:00     0     0  sbox11\n",
       "2020-02-03 00:39:57.440747505+00:00     1     1  sbox10\n",
       "2020-02-03 00:40:39.755830804+00:00     0     0   sbox3\n",
       "2020-02-03 00:41:41.145261920+00:00     0     0   sbox4"
      ]
     },
     "execution_count": 8,
     "metadata": {},
     "output_type": "execute_result"
    }
   ],
   "source": [
    "timeslice2 = client.query(\"select * FROM \\\"sensenet-test\\\" \\\n",
    "                         WHERE \\\"dev_id\\\" =~ /./ \\\n",
    "                         AND time > now() - 6w\", \\\n",
    "                         database=\"sensornet_db\")\n",
    "ts_dt = timeslice2['sensenet-test']\n",
    "ts_dt[['pm25', 'pm10', 'dev_id']].head()"
   ]
  },
  {
   "cell_type": "markdown",
   "metadata": {},
   "source": [
    "You might want to filter out indoor from outdoor sensors with a regular expression: for sbox-[0-9]i sensors:"
   ]
  },
  {
   "cell_type": "code",
   "execution_count": 9,
   "metadata": {},
   "outputs": [
    {
     "data": {
      "text/html": [
       "<div>\n",
       "<style scoped>\n",
       "    .dataframe tbody tr th:only-of-type {\n",
       "        vertical-align: middle;\n",
       "    }\n",
       "\n",
       "    .dataframe tbody tr th {\n",
       "        vertical-align: top;\n",
       "    }\n",
       "\n",
       "    .dataframe thead th {\n",
       "        text-align: right;\n",
       "    }\n",
       "</style>\n",
       "<table border=\"1\" class=\"dataframe\">\n",
       "  <thead>\n",
       "    <tr style=\"text-align: right;\">\n",
       "      <th></th>\n",
       "      <th>pm25</th>\n",
       "      <th>pm10</th>\n",
       "      <th>dev_id</th>\n",
       "    </tr>\n",
       "  </thead>\n",
       "  <tbody>\n",
       "    <tr>\n",
       "      <th>2020-02-23 21:58:44.793694120+00:00</th>\n",
       "      <td>2</td>\n",
       "      <td>2</td>\n",
       "      <td>sbox-i0</td>\n",
       "    </tr>\n",
       "    <tr>\n",
       "      <th>2020-02-23 21:59:44.693634360+00:00</th>\n",
       "      <td>1</td>\n",
       "      <td>1</td>\n",
       "      <td>sbox-i0</td>\n",
       "    </tr>\n",
       "    <tr>\n",
       "      <th>2020-02-23 22:00:44.676907135+00:00</th>\n",
       "      <td>1</td>\n",
       "      <td>1</td>\n",
       "      <td>sbox-i0</td>\n",
       "    </tr>\n",
       "    <tr>\n",
       "      <th>2020-02-23 22:01:44.731460038+00:00</th>\n",
       "      <td>1</td>\n",
       "      <td>1</td>\n",
       "      <td>sbox-i0</td>\n",
       "    </tr>\n",
       "    <tr>\n",
       "      <th>2020-02-23 22:02:44.640079917+00:00</th>\n",
       "      <td>1</td>\n",
       "      <td>1</td>\n",
       "      <td>sbox-i0</td>\n",
       "    </tr>\n",
       "  </tbody>\n",
       "</table>\n",
       "</div>"
      ],
      "text/plain": [
       "                                     pm25  pm10   dev_id\n",
       "2020-02-23 21:58:44.793694120+00:00     2     2  sbox-i0\n",
       "2020-02-23 21:59:44.693634360+00:00     1     1  sbox-i0\n",
       "2020-02-23 22:00:44.676907135+00:00     1     1  sbox-i0\n",
       "2020-02-23 22:01:44.731460038+00:00     1     1  sbox-i0\n",
       "2020-02-23 22:02:44.640079917+00:00     1     1  sbox-i0"
      ]
     },
     "execution_count": 9,
     "metadata": {},
     "output_type": "execute_result"
    }
   ],
   "source": [
    "timeslice3 = client.query(\"select * FROM \\\"sensenet-test\\\" \\\n",
    "                              WHERE \\\"dev_id\\\" =~ /sbox-/ \\\n",
    "                              AND time >= now() - 1w\", \\\n",
    "                              database=\"sensornet_db\")\n",
    "ts3_df = timeslice3['sensenet-test']\n",
    "ts3_df[['pm25', 'pm10', 'dev_id']].head()"
   ]
  },
  {
   "cell_type": "markdown",
   "metadata": {},
   "source": [
    "Now, it is time for some Panda magic: concatenate the tables with location, volunteer, and sensor values for all of the outdoor sensors (except for **!~** indoor sensors):"
   ]
  },
  {
   "cell_type": "code",
   "execution_count": 10,
   "metadata": {},
   "outputs": [
    {
     "data": {
      "text/html": [
       "<div>\n",
       "<style scoped>\n",
       "    .dataframe tbody tr th:only-of-type {\n",
       "        vertical-align: middle;\n",
       "    }\n",
       "\n",
       "    .dataframe tbody tr th {\n",
       "        vertical-align: top;\n",
       "    }\n",
       "\n",
       "    .dataframe thead th {\n",
       "        text-align: right;\n",
       "    }\n",
       "</style>\n",
       "<table border=\"1\" class=\"dataframe\">\n",
       "  <thead>\n",
       "    <tr style=\"text-align: right;\">\n",
       "      <th></th>\n",
       "      <th>pm25</th>\n",
       "      <th>pm10</th>\n",
       "      <th>dev_id</th>\n",
       "    </tr>\n",
       "  </thead>\n",
       "  <tbody>\n",
       "    <tr>\n",
       "      <th>2020-02-24 22:37:28.492574821+00:00</th>\n",
       "      <td>0</td>\n",
       "      <td>0</td>\n",
       "      <td>sbox8</td>\n",
       "    </tr>\n",
       "    <tr>\n",
       "      <th>2020-02-24 22:41:07.645768024+00:00</th>\n",
       "      <td>0</td>\n",
       "      <td>1</td>\n",
       "      <td>sbox7</td>\n",
       "    </tr>\n",
       "    <tr>\n",
       "      <th>2020-02-24 22:43:09.935985245+00:00</th>\n",
       "      <td>10</td>\n",
       "      <td>10</td>\n",
       "      <td>sbox5</td>\n",
       "    </tr>\n",
       "    <tr>\n",
       "      <th>2020-02-24 22:47:54.753220099+00:00</th>\n",
       "      <td>0</td>\n",
       "      <td>0</td>\n",
       "      <td>sbox11</td>\n",
       "    </tr>\n",
       "    <tr>\n",
       "      <th>2020-02-24 22:49:53.431506584+00:00</th>\n",
       "      <td>0</td>\n",
       "      <td>0</td>\n",
       "      <td>sbox3</td>\n",
       "    </tr>\n",
       "    <tr>\n",
       "      <th>2020-02-24 22:50:14.077774922+00:00</th>\n",
       "      <td>1</td>\n",
       "      <td>1</td>\n",
       "      <td>sbox9</td>\n",
       "    </tr>\n",
       "    <tr>\n",
       "      <th>2020-02-24 22:51:13.765706481+00:00</th>\n",
       "      <td>2</td>\n",
       "      <td>2</td>\n",
       "      <td>sbox10</td>\n",
       "    </tr>\n",
       "    <tr>\n",
       "      <th>2020-02-24 22:52:28.431596212+00:00</th>\n",
       "      <td>0</td>\n",
       "      <td>0</td>\n",
       "      <td>sbox8</td>\n",
       "    </tr>\n",
       "    <tr>\n",
       "      <th>2020-02-24 22:56:07.695811926+00:00</th>\n",
       "      <td>0</td>\n",
       "      <td>1</td>\n",
       "      <td>sbox7</td>\n",
       "    </tr>\n",
       "    <tr>\n",
       "      <th>2020-02-24 22:58:09.923574724+00:00</th>\n",
       "      <td>10</td>\n",
       "      <td>10</td>\n",
       "      <td>sbox5</td>\n",
       "    </tr>\n",
       "    <tr>\n",
       "      <th>2020-02-24 23:02:54.702292512+00:00</th>\n",
       "      <td>0</td>\n",
       "      <td>0</td>\n",
       "      <td>sbox11</td>\n",
       "    </tr>\n",
       "    <tr>\n",
       "      <th>2020-02-24 23:04:54.378167801+00:00</th>\n",
       "      <td>0</td>\n",
       "      <td>0</td>\n",
       "      <td>sbox3</td>\n",
       "    </tr>\n",
       "    <tr>\n",
       "      <th>2020-02-24 23:05:14.061646632+00:00</th>\n",
       "      <td>0</td>\n",
       "      <td>0</td>\n",
       "      <td>sbox9</td>\n",
       "    </tr>\n",
       "    <tr>\n",
       "      <th>2020-02-24 23:06:13.761140477+00:00</th>\n",
       "      <td>0</td>\n",
       "      <td>0</td>\n",
       "      <td>sbox10</td>\n",
       "    </tr>\n",
       "  </tbody>\n",
       "</table>\n",
       "</div>"
      ],
      "text/plain": [
       "                                     pm25  pm10  dev_id\n",
       "2020-02-24 22:37:28.492574821+00:00     0     0   sbox8\n",
       "2020-02-24 22:41:07.645768024+00:00     0     1   sbox7\n",
       "2020-02-24 22:43:09.935985245+00:00    10    10   sbox5\n",
       "2020-02-24 22:47:54.753220099+00:00     0     0  sbox11\n",
       "2020-02-24 22:49:53.431506584+00:00     0     0   sbox3\n",
       "2020-02-24 22:50:14.077774922+00:00     1     1   sbox9\n",
       "2020-02-24 22:51:13.765706481+00:00     2     2  sbox10\n",
       "2020-02-24 22:52:28.431596212+00:00     0     0   sbox8\n",
       "2020-02-24 22:56:07.695811926+00:00     0     1   sbox7\n",
       "2020-02-24 22:58:09.923574724+00:00    10    10   sbox5\n",
       "2020-02-24 23:02:54.702292512+00:00     0     0  sbox11\n",
       "2020-02-24 23:04:54.378167801+00:00     0     0   sbox3\n",
       "2020-02-24 23:05:14.061646632+00:00     0     0   sbox9\n",
       "2020-02-24 23:06:13.761140477+00:00     0     0  sbox10"
      ]
     },
     "execution_count": 10,
     "metadata": {},
     "output_type": "execute_result"
    }
   ],
   "source": [
    "timeslice4 = client.query(\"select * FROM \\\"sensenet-test\\\" \\\n",
    "                              WHERE \\\"dev_id\\\" !~ /sbox-/ \\\n",
    "                              AND time >= now() - 30m\", \\\n",
    "                              database=\"sensornet_db\")\n",
    "\n",
    "# get the dataframe with columns we want:\n",
    "ts4_df = timeslice4['sensenet-test']\n",
    "ts4_df = ts4_df[['pm25', 'pm10', 'dev_id']]\n",
    "ts4_df"
   ]
  },
  {
   "cell_type": "markdown",
   "metadata": {},
   "source": [
    "We have PM values for all sensors within a particular time slice (30 minutes). Now, we need to perform the merging with the table with geographic coordinates. Pandas to the rescue!"
   ]
  },
  {
   "cell_type": "code",
   "execution_count": null,
   "metadata": {},
   "outputs": [],
   "source": [
    "# new variable to manipulate LAT/LONG table:\n",
    "new_coords = df_coords\n",
    "\n",
    "# shift index to the left, so we do not lose timestamps during merge:\n",
    "ts4_df = ts4_df.reset_index(level=0).rename(columns={'index': 'timestamp'})\n",
    "\n",
    "# merge dataframes using dev_id from two different columns, 'box' and 'dev_id':\n",
    "merged_df = pd.merge(ts4_df, new_coords[['box', 'latitude', 'longitude', 'uid']], \\\n",
    "                     left_on='dev_id', \\\n",
    "                     right_on='box',   \\\n",
    "                     how='left')\n",
    "\n",
    "merged_df\n",
    "final_result = merged_df.drop(columns='box')\n",
    "final_result"
   ]
  },
  {
   "cell_type": "markdown",
   "metadata": {},
   "source": [
    "Influx has an unusual syntax... so when querying for fields you must use single quotes ' ' (otherwise the queries fail). We also have to escape the double quotes **inside** the query we want to run. To be happy, be syntax-safe out there! The world is a troubled spot.\n",
    "\n",
    "Enjoy environmental monitoring!"
   ]
  },
  {
   "cell_type": "markdown",
   "metadata": {},
   "source": [
    "`-- sign-off: LFRM, 02-24-2019`"
   ]
  }
 ],
 "metadata": {
  "kernelspec": {
   "display_name": "Python 3",
   "language": "python",
   "name": "python3"
  },
  "language_info": {
   "codemirror_mode": {
    "name": "ipython",
    "version": 3
   },
   "file_extension": ".py",
   "mimetype": "text/x-python",
   "name": "python",
   "nbconvert_exporter": "python",
   "pygments_lexer": "ipython3",
   "version": "3.6.8"
  }
 },
 "nbformat": 4,
 "nbformat_minor": 2
}
