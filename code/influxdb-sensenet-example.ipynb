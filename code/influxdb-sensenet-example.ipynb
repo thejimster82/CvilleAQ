{
 "cells": [
  {
   "cell_type": "markdown",
   "metadata": {},
   "source": [
    "# Influxdb notebook for SDS-sensenet"
   ]
  },
  {
   "cell_type": "markdown",
   "metadata": {},
   "source": [
    "Before getting started, make sure to install the 'InfluxDB-client' library:\n",
    "\n",
    "`pip3 install git+https://github.com/influxdata/influxdb-client-python.git`"
   ]
  },
  {
   "cell_type": "code",
   "execution_count": 1,
   "metadata": {},
   "outputs": [],
   "source": [
    "import requests\n",
    "import pandas as pd\n",
    "import influxdb\n",
    "\n",
    "from datetime import datetime\n",
    "from requests.packages.urllib3.exceptions import InsecureRequestWarning\n",
    "\n",
    "requests.packages.urllib3.disable_warnings(InsecureRequestWarning)"
   ]
  },
  {
   "cell_type": "markdown",
   "metadata": {},
   "source": [
    "Modify 'hostname', 'user' and 'passwd' with your credentials, not mine :0)"
   ]
  },
  {
   "cell_type": "code",
   "execution_count": 4,
   "metadata": {},
   "outputs": [],
   "source": [
    "hostname = 'sensors.unixjazz.org'\n",
    "user = 'admin' \n",
    "passwd = '9x7f_4E11!c+Abz2'\n",
    "client = influxdb.DataFrameClient(hostname, 8086, ssl=True, username=user, password=passwd)"
   ]
  },
  {
   "cell_type": "markdown",
   "metadata": {},
   "source": [
    "We are now connected, so the **fun** will start. First, let's query for the available DBs:"
   ]
  },
  {
   "cell_type": "code",
   "execution_count": 5,
   "metadata": {},
   "outputs": [
    {
     "data": {
      "text/plain": "ResultSet({'('databases', None)': [{'name': 'sample_database'}, {'name': '_internal'}, {'name': 'sensornet_db'}, {'name': 'sensenet_coords'}]})"
     },
     "execution_count": 5,
     "metadata": {},
     "output_type": "execute_result"
    }
   ],
   "source": [
    "client.query(\"show databases;\")"
   ]
  },
  {
   "cell_type": "code",
   "execution_count": 6,
   "metadata": {},
   "outputs": [
    {
     "data": {
      "text/html": "<div>\n<style scoped>\n    .dataframe tbody tr th:only-of-type {\n        vertical-align: middle;\n    }\n\n    .dataframe tbody tr th {\n        vertical-align: top;\n    }\n\n    .dataframe thead th {\n        text-align: right;\n    }\n</style>\n<table border=\"1\" class=\"dataframe\">\n  <thead>\n    <tr style=\"text-align: right;\">\n      <th></th>\n      <th>box</th>\n      <th>latitude</th>\n      <th>longitude</th>\n      <th>type</th>\n      <th>uid</th>\n    </tr>\n  </thead>\n  <tbody>\n    <tr>\n      <td>0</td>\n      <td>sbox11</td>\n      <td>38.029883</td>\n      <td>-78.484047</td>\n      <td>outdoor</td>\n      <td>LF</td>\n    </tr>\n    <tr>\n      <td>1</td>\n      <td>sbox10</td>\n      <td>38.030613</td>\n      <td>-78.479057</td>\n      <td>outdoor</td>\n      <td>CCI</td>\n    </tr>\n    <tr>\n      <td>2</td>\n      <td>sbox9</td>\n      <td>38.025759</td>\n      <td>-78.469295</td>\n      <td>outdoor</td>\n      <td>Jon K.</td>\n    </tr>\n    <tr>\n      <td>3</td>\n      <td>sbox8</td>\n      <td>38.047450</td>\n      <td>-78.483030</td>\n      <td>outdoor</td>\n      <td>Angela O.</td>\n    </tr>\n    <tr>\n      <td>4</td>\n      <td>sbox7</td>\n      <td>38.025570</td>\n      <td>-78.516610</td>\n      <td>outdoor</td>\n      <td>Lane R.</td>\n    </tr>\n    <tr>\n      <td>5</td>\n      <td>sbox6</td>\n      <td>38.025092</td>\n      <td>-78.503586</td>\n      <td>outdoor</td>\n      <td>Jimmy H.</td>\n    </tr>\n    <tr>\n      <td>6</td>\n      <td>sbox5</td>\n      <td>38.045801</td>\n      <td>-78.503947</td>\n      <td>outdoor</td>\n      <td>Francis R.</td>\n    </tr>\n    <tr>\n      <td>7</td>\n      <td>sbox4</td>\n      <td>38.027580</td>\n      <td>-78.515191</td>\n      <td>outdoor</td>\n      <td>Alex N.</td>\n    </tr>\n    <tr>\n      <td>8</td>\n      <td>sbox3</td>\n      <td>38.024780</td>\n      <td>-78.484580</td>\n      <td>outdoor</td>\n      <td>Lucas A.</td>\n    </tr>\n    <tr>\n      <td>9</td>\n      <td>sbox2</td>\n      <td>38.065460</td>\n      <td>-78.495820</td>\n      <td>outdoor</td>\n      <td>Zihao Z.</td>\n    </tr>\n  </tbody>\n</table>\n</div>",
      "text/plain": "      box   latitude  longitude     type         uid\n0  sbox11  38.029883 -78.484047  outdoor          LF\n1  sbox10  38.030613 -78.479057  outdoor         CCI\n2   sbox9  38.025759 -78.469295  outdoor      Jon K.\n3   sbox8  38.047450 -78.483030  outdoor   Angela O.\n4   sbox7  38.025570 -78.516610  outdoor     Lane R.\n5   sbox6  38.025092 -78.503586  outdoor    Jimmy H.\n6   sbox5  38.045801 -78.503947  outdoor  Francis R.\n7   sbox4  38.027580 -78.515191  outdoor     Alex N.\n8   sbox3  38.024780 -78.484580  outdoor    Lucas A.\n9   sbox2  38.065460 -78.495820  outdoor    Zihao Z."
     },
     "execution_count": 6,
     "metadata": {},
     "output_type": "execute_result"
    }
   ],
   "source": [
    "coords = client.query(\"select * from coords\", database=\"sensenet_coords\")\n",
    "df_coords = coords['coords']\n",
    "df_coords = df_coords.reset_index(drop=True)\n",
    "df_coords"
   ]
  },
  {
   "cell_type": "code",
   "execution_count": 7,
   "metadata": {},
   "outputs": [
    {
     "data": {
      "text/plain": "ResultSet({'('measurements', None)': [{'name': 'mqtt_consumer'}, {'name': 'sds'}, {'name': 'sds-sensenet'}, {'name': 'sensenet-test'}, {'name': 'sensenet-test-proto'}, {'name': 'user_coords'}]})"
     },
     "execution_count": 7,
     "metadata": {},
     "output_type": "execute_result"
    }
   ],
   "source": [
    "client.query(\"show measurements\", database=\"sensornet_db\")"
   ]
  },
  {
   "cell_type": "code",
   "execution_count": 8,
   "metadata": {},
   "outputs": [
    {
     "data": {
      "text/html": "<div>\n<style scoped>\n    .dataframe tbody tr th:only-of-type {\n        vertical-align: middle;\n    }\n\n    .dataframe tbody tr th {\n        vertical-align: top;\n    }\n\n    .dataframe thead th {\n        text-align: right;\n    }\n</style>\n<table border=\"1\" class=\"dataframe\">\n  <thead>\n    <tr style=\"text-align: right;\">\n      <th></th>\n      <th>dev_id</th>\n      <th>pm25</th>\n      <th>pm10</th>\n      <th>co2</th>\n      <th>temp</th>\n      <th>humidity</th>\n      <th>gtw_id</th>\n      <th>rssi</th>\n      <th>snr</th>\n    </tr>\n  </thead>\n  <tbody>\n    <tr>\n      <td>2020-02-03 00:36:03.779007152+00:00</td>\n      <td>sbox6</td>\n      <td>0</td>\n      <td>0</td>\n      <td>144</td>\n      <td>12.52</td>\n      <td>62.89</td>\n      <td>sds-gateway-3</td>\n      <td>-14</td>\n      <td>9.00</td>\n    </tr>\n    <tr>\n      <td>2020-02-03 00:39:38.171639705+00:00</td>\n      <td>sbox11</td>\n      <td>0</td>\n      <td>0</td>\n      <td>567</td>\n      <td>19.44</td>\n      <td>58.00</td>\n      <td>sds-gateway-1</td>\n      <td>-61</td>\n      <td>11.25</td>\n    </tr>\n    <tr>\n      <td>2020-02-03 00:39:57.440747505+00:00</td>\n      <td>sbox10</td>\n      <td>1</td>\n      <td>1</td>\n      <td>491</td>\n      <td>16.99</td>\n      <td>51.67</td>\n      <td>center-for-civic-innovation</td>\n      <td>-69</td>\n      <td>10.50</td>\n    </tr>\n    <tr>\n      <td>2020-02-03 00:40:39.755830804+00:00</td>\n      <td>sbox3</td>\n      <td>0</td>\n      <td>0</td>\n      <td>1247</td>\n      <td>19.29</td>\n      <td>37.97</td>\n      <td>sds-gateway-1</td>\n      <td>-60</td>\n      <td>12.25</td>\n    </tr>\n    <tr>\n      <td>2020-02-03 00:41:41.145261920+00:00</td>\n      <td>sbox4</td>\n      <td>0</td>\n      <td>0</td>\n      <td>365</td>\n      <td>17.36</td>\n      <td>43.69</td>\n      <td>sds-alex-apt</td>\n      <td>-45</td>\n      <td>8.50</td>\n    </tr>\n  </tbody>\n</table>\n</div>",
      "text/plain": "                                     dev_id  pm25  pm10   co2   temp  \\\n2020-02-03 00:36:03.779007152+00:00   sbox6     0     0   144  12.52   \n2020-02-03 00:39:38.171639705+00:00  sbox11     0     0   567  19.44   \n2020-02-03 00:39:57.440747505+00:00  sbox10     1     1   491  16.99   \n2020-02-03 00:40:39.755830804+00:00   sbox3     0     0  1247  19.29   \n2020-02-03 00:41:41.145261920+00:00   sbox4     0     0   365  17.36   \n\n                                     humidity                       gtw_id  \\\n2020-02-03 00:36:03.779007152+00:00     62.89                sds-gateway-3   \n2020-02-03 00:39:38.171639705+00:00     58.00                sds-gateway-1   \n2020-02-03 00:39:57.440747505+00:00     51.67  center-for-civic-innovation   \n2020-02-03 00:40:39.755830804+00:00     37.97                sds-gateway-1   \n2020-02-03 00:41:41.145261920+00:00     43.69                 sds-alex-apt   \n\n                                     rssi    snr  \n2020-02-03 00:36:03.779007152+00:00   -14   9.00  \n2020-02-03 00:39:38.171639705+00:00   -61  11.25  \n2020-02-03 00:39:57.440747505+00:00   -69  10.50  \n2020-02-03 00:40:39.755830804+00:00   -60  12.25  \n2020-02-03 00:41:41.145261920+00:00   -45   8.50  "
     },
     "execution_count": 8,
     "metadata": {},
     "output_type": "execute_result"
    }
   ],
   "source": [
    "complete_df = client.query(\"select * from \\\"sensenet-test\\\"\", database=\"sensornet_db\")\n",
    "df = complete_df['sensenet-test']\n",
    "df[['dev_id','pm25', 'pm10', 'co2', 'temp', 'humidity', 'gtw_id', 'rssi', 'snr']].head()"
   ]
  },
  {
   "cell_type": "markdown",
   "metadata": {},
   "source": [
    "Now, if we want to query for just a certain portion of the dataset or a particular time slice: (remember the time is in [RFC3339](https://docs.influxdata.com/influxdb/v1.7/query_language/data_exploration/#specify-a-time-range-with-epoch-timestamps))"
   ]
  },
  {
   "cell_type": "code",
   "execution_count": 9,
   "metadata": {},
   "outputs": [
    {
     "data": {
      "text/plain": "defaultdict(list, {'sensenet-test':                                       co2\n             2020-02-03 00:39:38.171639705+00:00   567\n             2020-02-03 00:54:38.936284266+00:00   565\n             2020-02-03 01:09:37.977429403+00:00   569\n             2020-02-03 01:24:38.046949854+00:00   600\n             2020-02-03 01:39:37.975148414+00:00  4781\n             ...                                   ...\n             2020-02-20 03:27:06.408776830+00:00   507\n             2020-02-20 03:42:05.419127045+00:00   510\n             2020-02-20 03:57:05.334527023+00:00   520\n             2020-02-20 04:12:05.340350912+00:00   530\n             2020-02-20 04:27:05.377206814+00:00   520\n             \n             [1546 rows x 1 columns]})"
     },
     "execution_count": 9,
     "metadata": {},
     "output_type": "execute_result"
    }
   ],
   "source": [
    "timeslice = client.query(\"select \\\"co2\\\" FROM \\\"sensenet-test\\\" \\\n",
    "                         WHERE \\\"dev_id\\\" = 'sbox11' \\\n",
    "                         AND time >= '2020-02-01' AND time <= '2020-02-20 12:30:00'\", \\\n",
    "                         database=\"sensornet_db\")\n",
    "timeslice"
   ]
  },
  {
   "cell_type": "markdown",
   "metadata": {},
   "source": [
    "Or, to query for all the sensorboxes with regular expressions + more intuitive time slicers!\n",
    "\n",
    "One could use now() - 1h(our), 1w(eek), etc."
   ]
  },
  {
   "cell_type": "code",
   "execution_count": 10,
   "metadata": {},
   "outputs": [
    {
     "data": {
      "text/html": "<div>\n<style scoped>\n    .dataframe tbody tr th:only-of-type {\n        vertical-align: middle;\n    }\n\n    .dataframe tbody tr th {\n        vertical-align: top;\n    }\n\n    .dataframe thead th {\n        text-align: right;\n    }\n</style>\n<table border=\"1\" class=\"dataframe\">\n  <thead>\n    <tr style=\"text-align: right;\">\n      <th></th>\n      <th>pm25</th>\n      <th>pm10</th>\n      <th>dev_id</th>\n    </tr>\n  </thead>\n  <tbody>\n    <tr>\n      <td>2020-02-03 00:36:03.779007152+00:00</td>\n      <td>0</td>\n      <td>0</td>\n      <td>sbox6</td>\n    </tr>\n    <tr>\n      <td>2020-02-03 00:39:38.171639705+00:00</td>\n      <td>0</td>\n      <td>0</td>\n      <td>sbox11</td>\n    </tr>\n    <tr>\n      <td>2020-02-03 00:39:57.440747505+00:00</td>\n      <td>1</td>\n      <td>1</td>\n      <td>sbox10</td>\n    </tr>\n    <tr>\n      <td>2020-02-03 00:40:39.755830804+00:00</td>\n      <td>0</td>\n      <td>0</td>\n      <td>sbox3</td>\n    </tr>\n    <tr>\n      <td>2020-02-03 00:41:41.145261920+00:00</td>\n      <td>0</td>\n      <td>0</td>\n      <td>sbox4</td>\n    </tr>\n  </tbody>\n</table>\n</div>",
      "text/plain": "                                     pm25  pm10  dev_id\n2020-02-03 00:36:03.779007152+00:00     0     0   sbox6\n2020-02-03 00:39:38.171639705+00:00     0     0  sbox11\n2020-02-03 00:39:57.440747505+00:00     1     1  sbox10\n2020-02-03 00:40:39.755830804+00:00     0     0   sbox3\n2020-02-03 00:41:41.145261920+00:00     0     0   sbox4"
     },
     "execution_count": 10,
     "metadata": {},
     "output_type": "execute_result"
    }
   ],
   "source": [
    "timeslice2 = client.query(\"select * FROM \\\"sensenet-test\\\" \\\n",
    "                         WHERE \\\"dev_id\\\" =~ /./ \\\n",
    "                         AND time > now() - 6w\", \\\n",
    "                         database=\"sensornet_db\")\n",
    "ts_dt = timeslice2['sensenet-test']\n",
    "ts_dt[['pm25', 'pm10', 'dev_id']].head()"
   ]
  },
  {
   "cell_type": "markdown",
   "metadata": {},
   "source": [
    "You might want to filter out indoor from outdoor sensors with a regular expression: for sbox-[0-9]i sensors:"
   ]
  },
  {
   "cell_type": "code",
   "execution_count": 11,
   "metadata": {},
   "outputs": [
    {
     "data": {
      "text/html": "<div>\n<style scoped>\n    .dataframe tbody tr th:only-of-type {\n        vertical-align: middle;\n    }\n\n    .dataframe tbody tr th {\n        vertical-align: top;\n    }\n\n    .dataframe thead th {\n        text-align: right;\n    }\n</style>\n<table border=\"1\" class=\"dataframe\">\n  <thead>\n    <tr style=\"text-align: right;\">\n      <th></th>\n      <th>pm25</th>\n      <th>pm10</th>\n      <th>dev_id</th>\n    </tr>\n  </thead>\n  <tbody>\n    <tr>\n      <td>2020-02-23 21:58:44.793694120+00:00</td>\n      <td>2</td>\n      <td>2</td>\n      <td>sbox-i0</td>\n    </tr>\n    <tr>\n      <td>2020-02-23 21:59:44.693634360+00:00</td>\n      <td>1</td>\n      <td>1</td>\n      <td>sbox-i0</td>\n    </tr>\n    <tr>\n      <td>2020-02-23 22:00:44.676907135+00:00</td>\n      <td>1</td>\n      <td>1</td>\n      <td>sbox-i0</td>\n    </tr>\n    <tr>\n      <td>2020-02-23 22:01:44.731460038+00:00</td>\n      <td>1</td>\n      <td>1</td>\n      <td>sbox-i0</td>\n    </tr>\n    <tr>\n      <td>2020-02-23 22:02:44.640079917+00:00</td>\n      <td>1</td>\n      <td>1</td>\n      <td>sbox-i0</td>\n    </tr>\n  </tbody>\n</table>\n</div>",
      "text/plain": "                                     pm25  pm10   dev_id\n2020-02-23 21:58:44.793694120+00:00     2     2  sbox-i0\n2020-02-23 21:59:44.693634360+00:00     1     1  sbox-i0\n2020-02-23 22:00:44.676907135+00:00     1     1  sbox-i0\n2020-02-23 22:01:44.731460038+00:00     1     1  sbox-i0\n2020-02-23 22:02:44.640079917+00:00     1     1  sbox-i0"
     },
     "execution_count": 11,
     "metadata": {},
     "output_type": "execute_result"
    }
   ],
   "source": [
    "timeslice3 = client.query(\"select * FROM \\\"sensenet-test\\\" \\\n",
    "                              WHERE \\\"dev_id\\\" =~ /sbox-/ \\\n",
    "                              AND time >= now() - 1w\", \\\n",
    "                              database=\"sensornet_db\")\n",
    "ts3_df = timeslice3['sensenet-test']\n",
    "ts3_df[['pm25', 'pm10', 'dev_id']].head()"
   ]
  },
  {
   "cell_type": "markdown",
   "metadata": {},
   "source": [
    "Now, it is time for some Panda magic: concatenate the tables with location, volunteer, and sensor values for all of the outdoor sensors (except for **!~** indoor sensors):"
   ]
  },
  {
   "cell_type": "code",
   "execution_count": 12,
   "metadata": {},
   "outputs": [
    {
     "data": {
      "text/html": "<div>\n<style scoped>\n    .dataframe tbody tr th:only-of-type {\n        vertical-align: middle;\n    }\n\n    .dataframe tbody tr th {\n        vertical-align: top;\n    }\n\n    .dataframe thead th {\n        text-align: right;\n    }\n</style>\n<table border=\"1\" class=\"dataframe\">\n  <thead>\n    <tr style=\"text-align: right;\">\n      <th></th>\n      <th>pm25</th>\n      <th>pm10</th>\n      <th>dev_id</th>\n    </tr>\n  </thead>\n  <tbody>\n    <tr>\n      <td>2020-02-25 01:17:54.676650051+00:00</td>\n      <td>0</td>\n      <td>0</td>\n      <td>sbox11</td>\n    </tr>\n    <tr>\n      <td>2020-02-25 01:19:53.338955382+00:00</td>\n      <td>0</td>\n      <td>0</td>\n      <td>sbox3</td>\n    </tr>\n    <tr>\n      <td>2020-02-25 01:20:13.983304991+00:00</td>\n      <td>0</td>\n      <td>0</td>\n      <td>sbox9</td>\n    </tr>\n    <tr>\n      <td>2020-02-25 01:21:13.632717193+00:00</td>\n      <td>0</td>\n      <td>0</td>\n      <td>sbox10</td>\n    </tr>\n    <tr>\n      <td>2020-02-25 01:22:28.174216206+00:00</td>\n      <td>0</td>\n      <td>0</td>\n      <td>sbox8</td>\n    </tr>\n    <tr>\n      <td>2020-02-25 01:26:07.537640382+00:00</td>\n      <td>0</td>\n      <td>0</td>\n      <td>sbox7</td>\n    </tr>\n    <tr>\n      <td>2020-02-25 01:28:09.832773970+00:00</td>\n      <td>10</td>\n      <td>10</td>\n      <td>sbox5</td>\n    </tr>\n    <tr>\n      <td>2020-02-25 01:32:54.640915353+00:00</td>\n      <td>0</td>\n      <td>0</td>\n      <td>sbox11</td>\n    </tr>\n    <tr>\n      <td>2020-02-25 01:34:53.322218166+00:00</td>\n      <td>0</td>\n      <td>0</td>\n      <td>sbox3</td>\n    </tr>\n    <tr>\n      <td>2020-02-25 01:35:13.970032128+00:00</td>\n      <td>0</td>\n      <td>0</td>\n      <td>sbox9</td>\n    </tr>\n    <tr>\n      <td>2020-02-25 01:36:13.652113661+00:00</td>\n      <td>0</td>\n      <td>0</td>\n      <td>sbox10</td>\n    </tr>\n    <tr>\n      <td>2020-02-25 01:37:28.219321330+00:00</td>\n      <td>0</td>\n      <td>0</td>\n      <td>sbox8</td>\n    </tr>\n    <tr>\n      <td>2020-02-25 01:41:07.586445815+00:00</td>\n      <td>0</td>\n      <td>0</td>\n      <td>sbox7</td>\n    </tr>\n    <tr>\n      <td>2020-02-25 01:43:09.820832623+00:00</td>\n      <td>10</td>\n      <td>10</td>\n      <td>sbox5</td>\n    </tr>\n  </tbody>\n</table>\n</div>",
      "text/plain": "                                     pm25  pm10  dev_id\n2020-02-25 01:17:54.676650051+00:00     0     0  sbox11\n2020-02-25 01:19:53.338955382+00:00     0     0   sbox3\n2020-02-25 01:20:13.983304991+00:00     0     0   sbox9\n2020-02-25 01:21:13.632717193+00:00     0     0  sbox10\n2020-02-25 01:22:28.174216206+00:00     0     0   sbox8\n2020-02-25 01:26:07.537640382+00:00     0     0   sbox7\n2020-02-25 01:28:09.832773970+00:00    10    10   sbox5\n2020-02-25 01:32:54.640915353+00:00     0     0  sbox11\n2020-02-25 01:34:53.322218166+00:00     0     0   sbox3\n2020-02-25 01:35:13.970032128+00:00     0     0   sbox9\n2020-02-25 01:36:13.652113661+00:00     0     0  sbox10\n2020-02-25 01:37:28.219321330+00:00     0     0   sbox8\n2020-02-25 01:41:07.586445815+00:00     0     0   sbox7\n2020-02-25 01:43:09.820832623+00:00    10    10   sbox5"
     },
     "execution_count": 12,
     "metadata": {},
     "output_type": "execute_result"
    }
   ],
   "source": [
    "timeslice4 = client.query(\"select * FROM \\\"sensenet-test\\\" \\\n",
    "                              WHERE \\\"dev_id\\\" !~ /sbox-/ \\\n",
    "                              AND time >= now() - 30m\", \\\n",
    "                              database=\"sensornet_db\")\n",
    "\n",
    "# get the dataframe with columns we want:\n",
    "ts4_df = timeslice4['sensenet-test']\n",
    "ts4_df = ts4_df[['pm25', 'pm10', 'dev_id']]\n",
    "ts4_df"
   ]
  },
  {
   "cell_type": "markdown",
   "metadata": {},
   "source": [
    "We have PM values for all sensors within a particular time slice (30 minutes). Now, we need to perform the merging with the table with geographic coordinates. Pandas to the rescue!"
   ]
  },
  {
   "cell_type": "code",
   "execution_count": 13,
   "metadata": {},
   "outputs": [
    {
     "data": {
      "text/html": "<div>\n<style scoped>\n    .dataframe tbody tr th:only-of-type {\n        vertical-align: middle;\n    }\n\n    .dataframe tbody tr th {\n        vertical-align: top;\n    }\n\n    .dataframe thead th {\n        text-align: right;\n    }\n</style>\n<table border=\"1\" class=\"dataframe\">\n  <thead>\n    <tr style=\"text-align: right;\">\n      <th></th>\n      <th>timestamp</th>\n      <th>pm25</th>\n      <th>pm10</th>\n      <th>dev_id</th>\n      <th>latitude</th>\n      <th>longitude</th>\n      <th>uid</th>\n    </tr>\n  </thead>\n  <tbody>\n    <tr>\n      <td>0</td>\n      <td>2020-02-25 01:17:54.676650051+00:00</td>\n      <td>0</td>\n      <td>0</td>\n      <td>sbox11</td>\n      <td>38.029883</td>\n      <td>-78.484047</td>\n      <td>LF</td>\n    </tr>\n    <tr>\n      <td>1</td>\n      <td>2020-02-25 01:19:53.338955382+00:00</td>\n      <td>0</td>\n      <td>0</td>\n      <td>sbox3</td>\n      <td>38.024780</td>\n      <td>-78.484580</td>\n      <td>Lucas A.</td>\n    </tr>\n    <tr>\n      <td>2</td>\n      <td>2020-02-25 01:20:13.983304991+00:00</td>\n      <td>0</td>\n      <td>0</td>\n      <td>sbox9</td>\n      <td>38.025759</td>\n      <td>-78.469295</td>\n      <td>Jon K.</td>\n    </tr>\n    <tr>\n      <td>3</td>\n      <td>2020-02-25 01:21:13.632717193+00:00</td>\n      <td>0</td>\n      <td>0</td>\n      <td>sbox10</td>\n      <td>38.030613</td>\n      <td>-78.479057</td>\n      <td>CCI</td>\n    </tr>\n    <tr>\n      <td>4</td>\n      <td>2020-02-25 01:22:28.174216206+00:00</td>\n      <td>0</td>\n      <td>0</td>\n      <td>sbox8</td>\n      <td>38.047450</td>\n      <td>-78.483030</td>\n      <td>Angela O.</td>\n    </tr>\n    <tr>\n      <td>5</td>\n      <td>2020-02-25 01:26:07.537640382+00:00</td>\n      <td>0</td>\n      <td>0</td>\n      <td>sbox7</td>\n      <td>38.025570</td>\n      <td>-78.516610</td>\n      <td>Lane R.</td>\n    </tr>\n    <tr>\n      <td>6</td>\n      <td>2020-02-25 01:28:09.832773970+00:00</td>\n      <td>10</td>\n      <td>10</td>\n      <td>sbox5</td>\n      <td>38.045801</td>\n      <td>-78.503947</td>\n      <td>Francis R.</td>\n    </tr>\n    <tr>\n      <td>7</td>\n      <td>2020-02-25 01:32:54.640915353+00:00</td>\n      <td>0</td>\n      <td>0</td>\n      <td>sbox11</td>\n      <td>38.029883</td>\n      <td>-78.484047</td>\n      <td>LF</td>\n    </tr>\n    <tr>\n      <td>8</td>\n      <td>2020-02-25 01:34:53.322218166+00:00</td>\n      <td>0</td>\n      <td>0</td>\n      <td>sbox3</td>\n      <td>38.024780</td>\n      <td>-78.484580</td>\n      <td>Lucas A.</td>\n    </tr>\n    <tr>\n      <td>9</td>\n      <td>2020-02-25 01:35:13.970032128+00:00</td>\n      <td>0</td>\n      <td>0</td>\n      <td>sbox9</td>\n      <td>38.025759</td>\n      <td>-78.469295</td>\n      <td>Jon K.</td>\n    </tr>\n    <tr>\n      <td>10</td>\n      <td>2020-02-25 01:36:13.652113661+00:00</td>\n      <td>0</td>\n      <td>0</td>\n      <td>sbox10</td>\n      <td>38.030613</td>\n      <td>-78.479057</td>\n      <td>CCI</td>\n    </tr>\n    <tr>\n      <td>11</td>\n      <td>2020-02-25 01:37:28.219321330+00:00</td>\n      <td>0</td>\n      <td>0</td>\n      <td>sbox8</td>\n      <td>38.047450</td>\n      <td>-78.483030</td>\n      <td>Angela O.</td>\n    </tr>\n    <tr>\n      <td>12</td>\n      <td>2020-02-25 01:41:07.586445815+00:00</td>\n      <td>0</td>\n      <td>0</td>\n      <td>sbox7</td>\n      <td>38.025570</td>\n      <td>-78.516610</td>\n      <td>Lane R.</td>\n    </tr>\n    <tr>\n      <td>13</td>\n      <td>2020-02-25 01:43:09.820832623+00:00</td>\n      <td>10</td>\n      <td>10</td>\n      <td>sbox5</td>\n      <td>38.045801</td>\n      <td>-78.503947</td>\n      <td>Francis R.</td>\n    </tr>\n  </tbody>\n</table>\n</div>",
      "text/plain": "                             timestamp  pm25  pm10  dev_id   latitude  \\\n0  2020-02-25 01:17:54.676650051+00:00     0     0  sbox11  38.029883   \n1  2020-02-25 01:19:53.338955382+00:00     0     0   sbox3  38.024780   \n2  2020-02-25 01:20:13.983304991+00:00     0     0   sbox9  38.025759   \n3  2020-02-25 01:21:13.632717193+00:00     0     0  sbox10  38.030613   \n4  2020-02-25 01:22:28.174216206+00:00     0     0   sbox8  38.047450   \n5  2020-02-25 01:26:07.537640382+00:00     0     0   sbox7  38.025570   \n6  2020-02-25 01:28:09.832773970+00:00    10    10   sbox5  38.045801   \n7  2020-02-25 01:32:54.640915353+00:00     0     0  sbox11  38.029883   \n8  2020-02-25 01:34:53.322218166+00:00     0     0   sbox3  38.024780   \n9  2020-02-25 01:35:13.970032128+00:00     0     0   sbox9  38.025759   \n10 2020-02-25 01:36:13.652113661+00:00     0     0  sbox10  38.030613   \n11 2020-02-25 01:37:28.219321330+00:00     0     0   sbox8  38.047450   \n12 2020-02-25 01:41:07.586445815+00:00     0     0   sbox7  38.025570   \n13 2020-02-25 01:43:09.820832623+00:00    10    10   sbox5  38.045801   \n\n    longitude         uid  \n0  -78.484047          LF  \n1  -78.484580    Lucas A.  \n2  -78.469295      Jon K.  \n3  -78.479057         CCI  \n4  -78.483030   Angela O.  \n5  -78.516610     Lane R.  \n6  -78.503947  Francis R.  \n7  -78.484047          LF  \n8  -78.484580    Lucas A.  \n9  -78.469295      Jon K.  \n10 -78.479057         CCI  \n11 -78.483030   Angela O.  \n12 -78.516610     Lane R.  \n13 -78.503947  Francis R.  "
     },
     "execution_count": 13,
     "metadata": {},
     "output_type": "execute_result"
    }
   ],
   "source": [
    "# new variable to manipulate LAT/LONG table:\n",
    "new_coords = df_coords\n",
    "\n",
    "# shift index to the left, so we do not lose timestamps during merge:\n",
    "ts4_df = ts4_df.reset_index(level=0).rename(columns={'index': 'timestamp'})\n",
    "\n",
    "# merge dataframes using dev_id from two different columns, 'box' and 'dev_id':\n",
    "merged_df = pd.merge(ts4_df, new_coords[['box', 'latitude', 'longitude', 'uid']], \\\n",
    "                     left_on='dev_id', \\\n",
    "                     right_on='box',   \\\n",
    "                     how='left')\n",
    "\n",
    "merged_df\n",
    "final_result = merged_df.drop(columns='box')\n",
    "final_result"
   ]
  },
  {
   "cell_type": "markdown",
   "metadata": {},
   "source": [
    "Influx has an unusual syntax... so when querying for fields you must use single quotes ' ' (otherwise the queries fail). We also have to escape the double quotes **inside** the query we want to run. To be happy, be syntax-safe out there! The world is a troubled spot.\n",
    "\n",
    "Enjoy environmental monitoring!"
   ]
  },
  {
   "cell_type": "markdown",
   "metadata": {},
   "source": [
    "`-- sign-off: LFRM, 02-24-2019`"
   ]
  },
  {
   "cell_type": "code",
   "execution_count": null,
   "metadata": {},
   "outputs": [],
   "source": []
  }
 ],
 "metadata": {
  "kernelspec": {
   "display_name": "Python 3",
   "language": "python",
   "name": "python3"
  },
  "language_info": {
   "codemirror_mode": {
    "name": "ipython",
    "version": 3
   },
   "file_extension": ".py",
   "mimetype": "text/x-python",
   "name": "python",
   "nbconvert_exporter": "python",
   "pygments_lexer": "ipython3",
   "version": "3.6.8"
  }
 },
 "nbformat": 4,
 "nbformat_minor": 2
}