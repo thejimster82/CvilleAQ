{
 "nbformat": 4,
 "nbformat_minor": 2,
 "metadata": {
  "language_info": {
   "name": "python",
   "codemirror_mode": {
    "name": "ipython",
    "version": 3
   },
   "version": "3.7.4-final"
  },
  "orig_nbformat": 2,
  "file_extension": ".py",
  "mimetype": "text/x-python",
  "name": "python",
  "npconvert_exporter": "python",
  "pygments_lexer": "ipython3",
  "version": 3,
  "kernelspec": {
   "name": "python37464bitbasecondae35273980d2647f38ccb8e2449288e31",
   "display_name": "Python 3.7.4 64-bit ('base': conda)"
  }
 },
 "cells": [
  {
   "cell_type": "code",
   "execution_count": 8,
   "metadata": {},
   "outputs": [],
   "source": [
    "import pandas as pd\n",
    "from geopy.geocoders import Nominatim"
   ]
  },
  {
   "cell_type": "code",
   "execution_count": 3,
   "metadata": {},
   "outputs": [],
   "source": [
    "real_estate = pd.read_csv('../data/Real_Estate_All_Assessments.csv')"
   ]
  },
  {
   "cell_type": "code",
   "execution_count": 4,
   "metadata": {},
   "outputs": [
    {
     "data": {
      "text/html": "<div>\n<style scoped>\n    .dataframe tbody tr th:only-of-type {\n        vertical-align: middle;\n    }\n\n    .dataframe tbody tr th {\n        vertical-align: top;\n    }\n\n    .dataframe thead th {\n        text-align: right;\n    }\n</style>\n<table border=\"1\" class=\"dataframe\">\n  <thead>\n    <tr style=\"text-align: right;\">\n      <th></th>\n      <th>RecordID_Int</th>\n      <th>ParcelNumber</th>\n      <th>LandValue</th>\n      <th>ImprovementValue</th>\n      <th>TotalValue</th>\n      <th>TaxYear</th>\n      <th>StreetName</th>\n      <th>StreetNumber</th>\n      <th>Unit</th>\n    </tr>\n  </thead>\n  <tbody>\n    <tr>\n      <th>0</th>\n      <td>2001</td>\n      <td>020016200</td>\n      <td>50200</td>\n      <td>0</td>\n      <td>50200</td>\n      <td>2004</td>\n      <td>RUGBY RD</td>\n      <td>1109</td>\n      <td>NaN</td>\n    </tr>\n    <tr>\n      <th>1</th>\n      <td>2002</td>\n      <td>020016200</td>\n      <td>41800</td>\n      <td>0</td>\n      <td>41800</td>\n      <td>2003</td>\n      <td>RUGBY RD</td>\n      <td>1109</td>\n      <td>NaN</td>\n    </tr>\n    <tr>\n      <th>2</th>\n      <td>2003</td>\n      <td>020016200</td>\n      <td>38000</td>\n      <td>0</td>\n      <td>38000</td>\n      <td>2002</td>\n      <td>RUGBY RD</td>\n      <td>1109</td>\n      <td>NaN</td>\n    </tr>\n    <tr>\n      <th>3</th>\n      <td>2004</td>\n      <td>020016200</td>\n      <td>31000</td>\n      <td>0</td>\n      <td>31000</td>\n      <td>2001</td>\n      <td>RUGBY RD</td>\n      <td>1109</td>\n      <td>NaN</td>\n    </tr>\n    <tr>\n      <th>4</th>\n      <td>2005</td>\n      <td>020016200</td>\n      <td>31000</td>\n      <td>0</td>\n      <td>31000</td>\n      <td>2000</td>\n      <td>RUGBY RD</td>\n      <td>1109</td>\n      <td>NaN</td>\n    </tr>\n    <tr>\n      <th>...</th>\n      <td>...</td>\n      <td>...</td>\n      <td>...</td>\n      <td>...</td>\n      <td>...</td>\n      <td>...</td>\n      <td>...</td>\n      <td>...</td>\n      <td>...</td>\n    </tr>\n    <tr>\n      <th>347217</th>\n      <td>347218</td>\n      <td>610318000</td>\n      <td>14000</td>\n      <td>88600</td>\n      <td>102600</td>\n      <td>2003</td>\n      <td>MILFORD TER</td>\n      <td>110</td>\n      <td>NaN</td>\n    </tr>\n    <tr>\n      <th>347218</th>\n      <td>347219</td>\n      <td>610318000</td>\n      <td>12000</td>\n      <td>78000</td>\n      <td>90000</td>\n      <td>2002</td>\n      <td>MILFORD TER</td>\n      <td>110</td>\n      <td>NaN</td>\n    </tr>\n    <tr>\n      <th>347219</th>\n      <td>347220</td>\n      <td>610318000</td>\n      <td>12000</td>\n      <td>75300</td>\n      <td>87300</td>\n      <td>2001</td>\n      <td>MILFORD TER</td>\n      <td>110</td>\n      <td>NaN</td>\n    </tr>\n    <tr>\n      <th>347220</th>\n      <td>347221</td>\n      <td>610318000</td>\n      <td>10000</td>\n      <td>70000</td>\n      <td>80000</td>\n      <td>2000</td>\n      <td>MILFORD TER</td>\n      <td>110</td>\n      <td>NaN</td>\n    </tr>\n    <tr>\n      <th>347221</th>\n      <td>347222</td>\n      <td>610318000</td>\n      <td>5000</td>\n      <td>0</td>\n      <td>5000</td>\n      <td>1999</td>\n      <td>MILFORD TER</td>\n      <td>110</td>\n      <td>NaN</td>\n    </tr>\n  </tbody>\n</table>\n<p>347222 rows × 9 columns</p>\n</div>",
      "text/plain": "        RecordID_Int ParcelNumber  LandValue  ImprovementValue  TotalValue  \\\n0               2001    020016200      50200                 0       50200   \n1               2002    020016200      41800                 0       41800   \n2               2003    020016200      38000                 0       38000   \n3               2004    020016200      31000                 0       31000   \n4               2005    020016200      31000                 0       31000   \n...              ...          ...        ...               ...         ...   \n347217        347218    610318000      14000             88600      102600   \n347218        347219    610318000      12000             78000       90000   \n347219        347220    610318000      12000             75300       87300   \n347220        347221    610318000      10000             70000       80000   \n347221        347222    610318000       5000                 0        5000   \n\n        TaxYear   StreetName StreetNumber Unit  \n0          2004     RUGBY RD         1109  NaN  \n1          2003     RUGBY RD         1109  NaN  \n2          2002     RUGBY RD         1109  NaN  \n3          2001     RUGBY RD         1109  NaN  \n4          2000     RUGBY RD         1109  NaN  \n...         ...          ...          ...  ...  \n347217     2003  MILFORD TER          110  NaN  \n347218     2002  MILFORD TER          110  NaN  \n347219     2001  MILFORD TER          110  NaN  \n347220     2000  MILFORD TER          110  NaN  \n347221     1999  MILFORD TER          110  NaN  \n\n[347222 rows x 9 columns]"
     },
     "execution_count": 4,
     "metadata": {},
     "output_type": "execute_result"
    }
   ],
   "source": [
    "real_estate"
   ]
  },
  {
   "cell_type": "code",
   "execution_count": 35,
   "metadata": {},
   "outputs": [],
   "source": [
    "real_estate['Address']=real_estate.StreetName+\" \"+real_estate.StreetNumber+ \" VA, US\""
   ]
  },
  {
   "cell_type": "code",
   "execution_count": 36,
   "metadata": {},
   "outputs": [
    {
     "output_type": "execute_result",
     "data": {
      "text/plain": "        RecordID_Int ParcelNumber  LandValue  ImprovementValue  TotalValue  \\\n0               2001    020016200      50200                 0       50200   \n1               2002    020016200      41800                 0       41800   \n2               2003    020016200      38000                 0       38000   \n3               2004    020016200      31000                 0       31000   \n4               2005    020016200      31000                 0       31000   \n...              ...          ...        ...               ...         ...   \n347217        347218    610318000      14000             88600      102600   \n347218        347219    610318000      12000             78000       90000   \n347219        347220    610318000      12000             75300       87300   \n347220        347221    610318000      10000             70000       80000   \n347221        347222    610318000       5000                 0        5000   \n\n        TaxYear   StreetName StreetNumber Unit                 Address  \n0          2004     RUGBY RD         1109  NaN    RUGBY RD 1109 VA, US  \n1          2003     RUGBY RD         1109  NaN    RUGBY RD 1109 VA, US  \n2          2002     RUGBY RD         1109  NaN    RUGBY RD 1109 VA, US  \n3          2001     RUGBY RD         1109  NaN    RUGBY RD 1109 VA, US  \n4          2000     RUGBY RD         1109  NaN    RUGBY RD 1109 VA, US  \n...         ...          ...          ...  ...                     ...  \n347217     2003  MILFORD TER          110  NaN  MILFORD TER 110 VA, US  \n347218     2002  MILFORD TER          110  NaN  MILFORD TER 110 VA, US  \n347219     2001  MILFORD TER          110  NaN  MILFORD TER 110 VA, US  \n347220     2000  MILFORD TER          110  NaN  MILFORD TER 110 VA, US  \n347221     1999  MILFORD TER          110  NaN  MILFORD TER 110 VA, US  \n\n[347222 rows x 10 columns]",
      "text/html": "<div>\n<style scoped>\n    .dataframe tbody tr th:only-of-type {\n        vertical-align: middle;\n    }\n\n    .dataframe tbody tr th {\n        vertical-align: top;\n    }\n\n    .dataframe thead th {\n        text-align: right;\n    }\n</style>\n<table border=\"1\" class=\"dataframe\">\n  <thead>\n    <tr style=\"text-align: right;\">\n      <th></th>\n      <th>RecordID_Int</th>\n      <th>ParcelNumber</th>\n      <th>LandValue</th>\n      <th>ImprovementValue</th>\n      <th>TotalValue</th>\n      <th>TaxYear</th>\n      <th>StreetName</th>\n      <th>StreetNumber</th>\n      <th>Unit</th>\n      <th>Address</th>\n    </tr>\n  </thead>\n  <tbody>\n    <tr>\n      <th>0</th>\n      <td>2001</td>\n      <td>020016200</td>\n      <td>50200</td>\n      <td>0</td>\n      <td>50200</td>\n      <td>2004</td>\n      <td>RUGBY RD</td>\n      <td>1109</td>\n      <td>NaN</td>\n      <td>RUGBY RD 1109 VA, US</td>\n    </tr>\n    <tr>\n      <th>1</th>\n      <td>2002</td>\n      <td>020016200</td>\n      <td>41800</td>\n      <td>0</td>\n      <td>41800</td>\n      <td>2003</td>\n      <td>RUGBY RD</td>\n      <td>1109</td>\n      <td>NaN</td>\n      <td>RUGBY RD 1109 VA, US</td>\n    </tr>\n    <tr>\n      <th>2</th>\n      <td>2003</td>\n      <td>020016200</td>\n      <td>38000</td>\n      <td>0</td>\n      <td>38000</td>\n      <td>2002</td>\n      <td>RUGBY RD</td>\n      <td>1109</td>\n      <td>NaN</td>\n      <td>RUGBY RD 1109 VA, US</td>\n    </tr>\n    <tr>\n      <th>3</th>\n      <td>2004</td>\n      <td>020016200</td>\n      <td>31000</td>\n      <td>0</td>\n      <td>31000</td>\n      <td>2001</td>\n      <td>RUGBY RD</td>\n      <td>1109</td>\n      <td>NaN</td>\n      <td>RUGBY RD 1109 VA, US</td>\n    </tr>\n    <tr>\n      <th>4</th>\n      <td>2005</td>\n      <td>020016200</td>\n      <td>31000</td>\n      <td>0</td>\n      <td>31000</td>\n      <td>2000</td>\n      <td>RUGBY RD</td>\n      <td>1109</td>\n      <td>NaN</td>\n      <td>RUGBY RD 1109 VA, US</td>\n    </tr>\n    <tr>\n      <th>...</th>\n      <td>...</td>\n      <td>...</td>\n      <td>...</td>\n      <td>...</td>\n      <td>...</td>\n      <td>...</td>\n      <td>...</td>\n      <td>...</td>\n      <td>...</td>\n      <td>...</td>\n    </tr>\n    <tr>\n      <th>347217</th>\n      <td>347218</td>\n      <td>610318000</td>\n      <td>14000</td>\n      <td>88600</td>\n      <td>102600</td>\n      <td>2003</td>\n      <td>MILFORD TER</td>\n      <td>110</td>\n      <td>NaN</td>\n      <td>MILFORD TER 110 VA, US</td>\n    </tr>\n    <tr>\n      <th>347218</th>\n      <td>347219</td>\n      <td>610318000</td>\n      <td>12000</td>\n      <td>78000</td>\n      <td>90000</td>\n      <td>2002</td>\n      <td>MILFORD TER</td>\n      <td>110</td>\n      <td>NaN</td>\n      <td>MILFORD TER 110 VA, US</td>\n    </tr>\n    <tr>\n      <th>347219</th>\n      <td>347220</td>\n      <td>610318000</td>\n      <td>12000</td>\n      <td>75300</td>\n      <td>87300</td>\n      <td>2001</td>\n      <td>MILFORD TER</td>\n      <td>110</td>\n      <td>NaN</td>\n      <td>MILFORD TER 110 VA, US</td>\n    </tr>\n    <tr>\n      <th>347220</th>\n      <td>347221</td>\n      <td>610318000</td>\n      <td>10000</td>\n      <td>70000</td>\n      <td>80000</td>\n      <td>2000</td>\n      <td>MILFORD TER</td>\n      <td>110</td>\n      <td>NaN</td>\n      <td>MILFORD TER 110 VA, US</td>\n    </tr>\n    <tr>\n      <th>347221</th>\n      <td>347222</td>\n      <td>610318000</td>\n      <td>5000</td>\n      <td>0</td>\n      <td>5000</td>\n      <td>1999</td>\n      <td>MILFORD TER</td>\n      <td>110</td>\n      <td>NaN</td>\n      <td>MILFORD TER 110 VA, US</td>\n    </tr>\n  </tbody>\n</table>\n<p>347222 rows × 10 columns</p>\n</div>"
     },
     "metadata": {},
     "execution_count": 36
    }
   ],
   "source": [
    "real_estate"
   ]
  },
  {
   "cell_type": "code",
   "execution_count": 43,
   "metadata": {},
   "outputs": [],
   "source": [
    "index=0\n",
    "geolocator = Nominatim(user_agent=\"specify_your_app_name_here\")\n",
    "coords = {}"
   ]
  },
  {
   "cell_type": "code",
   "execution_count": 53,
   "metadata": {},
   "outputs": [
    {
     "output_type": "execute_result",
     "data": {
      "text/plain": "689"
     },
     "metadata": {},
     "execution_count": 53
    }
   ],
   "source": [
    "index"
   ]
  },
  {
   "cell_type": "code",
   "execution_count": 54,
   "metadata": {},
   "outputs": [
    {
     "output_type": "execute_result",
     "data": {
      "text/plain": "13751"
     },
     "metadata": {},
     "execution_count": 54
    }
   ],
   "source": [
    "len(real_estate.Address.unique())"
   ]
  },
  {
   "cell_type": "code",
   "execution_count": 55,
   "metadata": {},
   "outputs": [],
   "source": [
    "while index != len(real_estate.Address.unique())-1:\n",
    "    try:\n",
    "        for i in range(index,len(real_estate.Address.unique())):\n",
    "            address = real_estate.Address.unique()[i]\n",
    "            coords[address] = geolocator.geocode(address)\n",
    "            index=i\n",
    "    except:\n",
    "        continue"
   ]
  },
  {
   "cell_type": "code",
   "execution_count": 46,
   "metadata": {},
   "outputs": [
    {
     "output_type": "execute_result",
     "data": {
      "text/plain": "{'RUGBY RD 1109 VA, US': Location(1109, Rugby Road, Starr Hill, Charlottesville, Virginia, 22903, United States of America, (38.04754815, -78.49342149136213, 0.0)),\n 'RUGBY RD 1105 VA, US': Location(1105, Rugby Road, Starr Hill, Charlottesville, Virginia, 22903, United States of America, (38.047154449999994, -78.49361136502867, 0.0)),\n 'RUGBY RD 1101 VA, US': Location(1101, Rugby Road, Starr Hill, Charlottesville, Virginia, 22903, United States of America, (38.04681855, -78.49375014847143, 0.0)),\n 'ROSSER LN 947 VA, US': Location(947, Rosser Lane, Starr Hill, Charlottesville, Virginia, 22903, United States of America, (38.04737325, -78.4946678675694, 0.0)),\n 'ROSSER LN 945 VA, US': Location(945, Rosser Lane, Starr Hill, Charlottesville, Virginia, 22903, United States of America, (38.0470995, -78.49477522396015, 0.0)),\n 'ROSSER LN 941 VA, US': Location(941, Rosser Lane, Starr Hill, Charlottesville, Virginia, 22903, United States of America, (38.0473515, -78.4957535414822, 0.0)),\n 'ROSSER LN 939 VA, US': Location(939, Rosser Lane, Starr Hill, Charlottesville, Virginia, 22903, United States of America, (38.04677325, -78.49535530179432, 0.0)),\n 'WESTVIEW RD 1801 VA, US': Location(1801, Westview Road, The Meadows, Charlottesville, Virginia, 22903, United States of America, (38.046560150000005, -78.49589610837455, 0.0)),\n 'WESTVIEW RD 1829 VA, US': Location(1829, Westview Road, The Meadows, Charlottesville, Virginia, 22903, United States of America, (38.0466727, -78.49640747484665, 0.0)),\n 'ROSSER LN 921 VA, US': Location(921, Rosser Lane, Starr Hill, Charlottesville, Virginia, 22903, United States of America, (38.04633885, -78.49549587541081, 0.0)),\n 'WESTVIEW RD 1833 VA, US': Location(1833, Westview Road, The Meadows, Charlottesville, Virginia, 22903, United States of America, (38.04698865, -78.49672724000001, 0.0)),\n 'WESTVIEW RD 1839 VA, US': Location(1839, Westview Road, The Meadows, Charlottesville, Virginia, 22903, United States of America, (38.0476585, -78.49741763555693, 0.0)),\n 'WESTVIEW RD 0 VA, US': Location(Westview Road, Quinque, Greene County, Virginia, 22968, United States of America, (38.2671, -78.430699, 0.0)),\n 'WESTVIEW RD 1861 VA, US': Location(1861, Westview Road, The Meadows, Charlottesville, Virginia, 22903, United States of America, (38.048047600000004, -78.49824055073995, 0.0)),\n 'WESTVIEW RD 1848 VA, US': Location(1848, Westview Road, The Meadows, Charlottesville, Virginia, 22903, United States of America, (38.047938200000004, -78.49888628168475, 0.0)),\n 'WESTVIEW RD 1844 VA, US': Location(1844, Westview Road, The Meadows, Charlottesville, Virginia, 22903, United States of America, (38.0477256, -78.4986455376758, 0.0)),\n 'WESTVIEW RD 1834 VA, US': Location(1834, Westview Road, The Meadows, Charlottesville, Virginia, 22903, United States of America, (38.0473711, -78.4984024495907, 0.0)),\n 'FIELD RD 1859 VA, US': Location(1859, Field Road, The Meadows, Charlottesville, Virginia, 22903, United States of America, (38.04744165, -78.49910693232724, 0.0)),\n 'FIELD RD 1861 VA, US': Location(1861, Field Road, The Meadows, Charlottesville, Virginia, 22903, United States of America, (38.0477351, -78.49925687933205, 0.0)),\n 'FIELD RD 1862 VA, US': Location(1862, Field Road, The Meadows, Charlottesville, Virginia, 22903, United States of America, (38.047455299999996, -78.49988502566723, 0.0)),\n 'WINSTON RD 1857 VA, US': Location(1857, Winston Road, Starr Hill, Charlottesville, Virginia, 22903, United States of America, (38.0470766, -78.50079742262919, 0.0)),\n 'WINSTON RD 1855 VA, US': Location(1855, Winston Road, Starr Hill, Charlottesville, Virginia, 22903, United States of America, (38.04690545, -78.50054900985181, 0.0)),\n 'WINSTON RD 1851 VA, US': Location(1851, Winston Road, Starr Hill, Charlottesville, Virginia, 22903, United States of America, (38.0467223, -78.5002189529095, 0.0)),\n 'FIELD RD 1860 VA, US': Location(Field Road, Magnolia, Gloucester, Essex County, Massachusetts, 01930-2350, United States of America, (42.5766623, -70.713057, 0.0)),\n 'FIELD RD 1858 VA, US': Location(1858, Field Road, The Meadows, Charlottesville, Virginia, 22903, United States of America, (38.0470294, -78.4993953481009, 0.0)),\n 'WINSTON RD 1849 VA, US': Location(1849, Winston Road, Starr Hill, Charlottesville, Virginia, 22903, United States of America, (38.0465978, -78.49996605317386, 0.0)),\n 'WINSTON RD 1847 VA, US': Location(1847, Winston Road, Starr Hill, Charlottesville, Virginia, 22903, United States of America, (38.046477800000005, -78.49978225022727, 0.0)),\n 'WINSTON RD 1843 VA, US': Location(1843, Winston Road, Starr Hill, Charlottesville, Virginia, 22903, United States of America, (38.046348449999996, -78.49954112744518, 0.0)),\n 'FIELD RD 1856 VA, US': Location(1856, Field Road, The Meadows, Charlottesville, Virginia, 22903, United States of America, (38.046883550000004, -78.49910683145606, 0.0)),\n 'FIELD RD 1854 VA, US': Location(1854, Field Road, The Meadows, Charlottesville, Virginia, 22903, United States of America, (38.04678265, -78.49889715019378, 0.0)),\n 'OLD FARM RD 919 VA, US': Location(919, Old Farm Road, Charlottesville, Virginia, 22903, United States of America, (38.046855, -78.49832265771276, 0.0)),\n 'OLD FARM RD 913 VA, US': Location(913, Old Farm Road, Charlottesville, Virginia, 22903, United States of America, (38.0466766, -78.4984100872441, 0.0)),\n 'OLD FARM RD 911 VA, US': Location(911, Old Farm Road, Charlottesville, Virginia, 22903, United States of America, (38.0464597, -78.498635325, 0.0)),\n 'OLD FARM RD 907 VA, US': Location(907, Old Farm Road, Charlottesville, Virginia, 22903, United States of America, (38.0462378, -78.49882010450968, 0.0)),\n 'WINSTON RD 1839 VA, US': Location(1839, Winston Road, Starr Hill, Charlottesville, Virginia, 22903, United States of America, (38.04608, -78.4990180626195, 0.0)),\n 'WINSTON RD 1825 VA, US': Location(1825, Winston Road, Starr Hill, Charlottesville, Virginia, 22903, United States of America, (38.045401, -78.49825742857142, 0.0)),\n 'OLD FARM RD 910 VA, US': Location(Old Farm Road, Oak Hill Park, Oak Hill, Newton, Middlesex County, Massachusetts, 02459, United States of America, (42.298087, -71.180809, 0.0)),\n 'OLD FARM RD 906 VA, US': Location(906, Old Farm Road, Charlottesville, Virginia, 22903, United States of America, (38.0458989, -78.49835133125, 0.0)),\n 'OLD FARM RD 912 VA, US': Location(912, Old Farm Road, Charlottesville, Virginia, 22903, United States of America, (38.046297949999996, -78.49785034985715, 0.0)),\n 'OLD FARM RD 916 VA, US': Location(916, Old Farm Road, Charlottesville, Virginia, 22903, United States of America, (38.0464844, -78.49788499980835, 0.0)),\n 'WESTVIEW RD 1832 VA, US': Location(1832, Westview Road, The Meadows, Charlottesville, Virginia, 22903, United States of America, (38.0467225, -78.4975854852025, 0.0)),\n 'WINSTON RD 1823 VA, US': Location(1823, Winston Road, Starr Hill, Charlottesville, Virginia, 22903, United States of America, (38.045529849999994, -78.4981228014977, 0.0)),\n 'WINSTON RD 1821 VA, US': Location(1821, Winston Road, Starr Hill, Charlottesville, Virginia, 22903, United States of America, (38.04544595, -78.49791642967648, 0.0)),\n 'COTTAGE LN 905 VA, US': Location(905, Cottage Lane, Charlottesville, Virginia, 22903, United States of America, (38.0456753, -78.49777259511707, 0.0)),\n 'FIELD RD 1877 VA, US': Location(1877, Field Road, The Meadows, Charlottesville, Virginia, 22903, United States of America, (38.049399199999996, -78.50083270644822, 0.0)),\n 'FIELD RD 1884 VA, US': Location(1884, Field Road, The Meadows, Charlottesville, Virginia, 22903, United States of America, (38.0492104, -78.50137577134548, 0.0)),\n 'FIELD RD 1882 VA, US': Location(1882, Field Road, The Meadows, Charlottesville, Virginia, 22903, United States of America, (38.0490336, -78.50121121452896, 0.0)),\n 'FIELD RD 1874 VA, US': Location(Field Road, Magnolia, Gloucester, Essex County, Massachusetts, 01930-2350, United States of America, (42.5766623, -70.713057, 0.0)),\n 'FIELD RD 1872 VA, US': Location(1872, Field Road, The Meadows, Charlottesville, Virginia, 22903, United States of America, (38.0485953, -78.50083341976242, 0.0)),\n 'FIELD RD 1870 VA, US': Location(1870, Field Road, The Meadows, Charlottesville, Virginia, 22903, United States of America, (38.048371599999996, -78.50068451824131, 0.0)),\n 'FIELD RD 1868 VA, US': Location(1868, Field Road, The Meadows, Charlottesville, Virginia, 22903, United States of America, (38.048109600000004, -78.50051359645974, 0.0)),\n 'FIELD RD 1866 VA, US': Location(Field Road, Magnolia, Gloucester, Essex County, Massachusetts, 01930-2350, United States of America, (42.5766623, -70.713057, 0.0)),\n 'FIELD RD 1864 VA, US': Location(1864, Field Road, The Meadows, Charlottesville, Virginia, 22903, United States of America, (38.0476809, -78.50007260210344, 0.0)),\n 'FENDALL TER 906 VA, US': Location(906, Fendall Terrace, Charlottesville, Virginia, 22903, United States of America, (38.0477676, -78.50111266785714, 0.0)),\n 'WINSTON RD 1859 VA, US': Location(1859, Winston Road, Starr Hill, Charlottesville, Virginia, 22903, United States of America, (38.0471926, -78.50096829615583, 0.0)),\n 'WINSTON RD 1861 VA, US': Location(1861, Winston Road, Starr Hill, Charlottesville, Virginia, 22903, United States of America, (38.0474738, -78.50064568491243, 0.0)),\n 'WINSTON RD 1863 VA, US': Location(1863, Winston Road, Starr Hill, Charlottesville, Virginia, 22903, United States of America, (38.047297650000004, -78.50126845977113, 0.0)),\n 'WINSTON RD 1867 VA, US': Location(1867, Winston Road, Starr Hill, Charlottesville, Virginia, 22903, United States of America, (38.0474898, -78.50154018345043, 0.0)),\n 'FENDALL TER 901 VA, US': Location(901, Fendall Terrace, Charlottesville, Virginia, 22903, United States of America, (38.04779835, -78.50204038302103, 0.0)),\n 'FENDALL TER 905 VA, US': Location(905, Fendall Terrace, Charlottesville, Virginia, 22903, United States of America, (38.048119, -78.5018530198238, 0.0)),\n 'EMMET ST N 918 VA, US': Location(918, Emmet Street North, The Meadows, Charlottesville, Virginia, 22903, United States of America, (38.0492543064844, -78.50263532051885, 0.0)),\n 'EMMET ST N 902 VA, US': Location(902, Emmet Street North, The Meadows, Charlottesville, Virginia, 22903, United States of America, (38.04917053039505, -78.50271780122279, 0.0)),\n 'EMMET ST N 914 VA, US': Location(914, Emmet Street North, The Meadows, Charlottesville, Virginia, 22903, United States of America, (38.049233585894264, -78.50265617142715, 0.0)),\n 'EMMET ST N 900 VA, US': Location(900, Emmet Street North, The Meadows, Charlottesville, Virginia, 22903, United States of America, (38.04915977735555, -78.5027278211005, 0.0)),\n 'EMMET ST N 0 VA, US': Location(Emmet Street North, Northerly, Charlottesville, Virginia, 22901, United States of America, (38.059401, -78.493505, 0.0)),\n 'BARRACKS RD 0 VA, US': Location(Barracks Road, Lackey, York County, Virginia, 23691, United States of America, (37.239038, -76.543667, 0.0)),\n 'BARRACKS RD 1910 VA, US': Location(1910, Barracks Road, The Meadows, Charlottesville, Virginia, 22903, United States of America, (38.048993036737926, -78.49578415173767, 0.0)),\n 'BUCKINGHAM RD 120 VA, US': Location(120, Buckingham Road, Suttons Mills, North Andover, Essex County, Massachusetts, 01845, United States of America, (42.69628398116668, -71.13301444433722, 0.0)),\n 'BUCKINGHAM RD 128 VA, US': Location(128, Buckingham Road, Suttons Mills, North Andover, Essex County, Massachusetts, 01845, United States of America, (42.69623548007433, -71.1329694881752, 0.0)),\n 'BUCKINGHAM RD 108 VA, US': Location(108, Buckingham Road, Suttons Mills, North Andover, Essex County, Massachusetts, 01845, United States of America, (42.69636166989828, -71.1330759423705, 0.0)),\n 'BUCKINGHAM RD 110 VA, US': Location(110, Buckingham Road, Suttons Mills, North Andover, Essex County, Massachusetts, 01845, United States of America, (42.69634840940013, -71.13306606828988, 0.0)),\n 'BUCKINGHAM RD 114 VA, US': Location(114, Buckingham Road, Suttons Mills, North Andover, Essex County, Massachusetts, 01845, United States of America, (42.696321888403844, -71.13304632012867, 0.0)),\n 'BUCKINGHAM RD 118 VA, US': Location(118, Buckingham Road, Suttons Mills, North Andover, Essex County, Massachusetts, 01845, United States of America, (42.69629610643977, -71.13302568337772, 0.0)),\n 'BUCKINGHAM RD 104 VA, US': Location(104, Buckingham Road, Suttons Mills, North Andover, Essex County, Massachusetts, 01845, United States of America, (42.69638819089457, -71.1330956905317, 0.0)),\n 'BARRACKS RD 1820 VA, US': Location(1820, Barracks Road, The Meadows, Charlottesville, Virginia, 22904-4119, United States of America, (38.0482412, -78.49439990094334, 0.0)),\n 'BARRACKS RD 1812 VA, US': Location(1812, Barracks Road, The Meadows, Charlottesville, Virginia, 22903, United States of America, (38.04833104564569, -78.49388368122479, 0.0)),\n 'HOWARD DR 116 VA, US': Location(116, Howard Drive, East Monmouth, Kennebec County, Maine, 04259, United States of America, (44.25138858570197, -69.95650815258149, 0.0)),\n 'HOWARD DR 114 VA, US': Location(114, Howard Drive, East Monmouth, Kennebec County, Maine, 04259, United States of America, (44.25139922508139, -69.9564540426806, 0.0)),\n 'HOWARD DR 112 VA, US': Location(112, Howard Drive, East Monmouth, Kennebec County, Maine, 04259, United States of America, (44.25140341179259, -69.95639903394735, 0.0)),\n 'HOWARD DR 110 VA, US': Location(110, Howard Drive, East Monmouth, Kennebec County, Maine, 04259, United States of America, (44.25140759850379, -69.95634402521408, 0.0)),\n 'BARRACKS RD 1808 VA, US': Location(1808, Barracks Road, The Meadows, Charlottesville, Virginia, 22904-4119, United States of America, (38.04792325, -78.49386421154354, 0.0)),\n 'BARRACKS RD 1806 VA, US': Location(1806, Barracks Road, The Meadows, Charlottesville, Virginia, 22904-4119, United States of America, (38.047768250000004, -78.49372640270583, 0.0)),\n 'BARRACKS RD 1800 VA, US': Location(1800, Barracks Road, The Meadows, Charlottesville, Virginia, 22904-4119, United States of America, (38.04764605, -78.49357427963636, 0.0)),\n 'RUGBY RD 1107 VA, US': Location(1107, Rugby Road, Starr Hill, Charlottesville, Virginia, 22903, United States of America, (38.04737925, -78.4934781155688, 0.0)),\n 'RUGBY AVE 1717 VA, US': Location(1717, Rugby Avenue, Greenfields, Charlottesville, Virginia, 22904-4119, United States of America, (38.04665195, -78.4923700978293, 0.0)),\n 'RUGBY AVE 1711 VA, US': Location(1711, Rugby Avenue, Greenfields, Charlottesville, Virginia, 22904-4119, United States of America, (38.0465927, -78.4919453990081, 0.0)),\n 'RUGBY AVE 1715 VA, US': Location(1715, Rugby Avenue, Greenfields, Charlottesville, Virginia, 22904-4119, United States of America, (38.046814350000005, -78.49204055802129, 0.0)),\n 'RUGBY AVE 1701 VA, US': Location(1701, Rugby Avenue, Greenfields, Charlottesville, Virginia, 22904-4119, United States of America, (38.046499, -78.49111149999999, 0.0)),\n 'RUGBY AVE 1705 VA, US': Location(1705, Rugby Avenue, Greenfields, Charlottesville, Virginia, 22904-4119, United States of America, (38.04657575, -78.49150251921867, 0.0)),\n 'STONEFIELD LN 1106 VA, US': Location(1106, Stonefield Lane, Greenfields, Charlottesville, Virginia, 22903, United States of America, (38.0466275, -78.49064285573155, 0.0)),\n 'RUGBY AVE 1643 VA, US': Location(1643, Rugby Avenue, Greenfields, Charlottesville, Virginia, 22904-4119, United States of America, (38.04640105, -78.4906759746617, 0.0)),\n 'RUGBY AVE 1641 VA, US': Location(1641, Rugby Avenue, Greenfields, Charlottesville, Virginia, 22904-4119, United States of America, (38.046348949999995, -78.49043814169805, 0.0)),\n 'RUGBY AVE 1637 VA, US': Location(1637, Rugby Avenue, Greenfields, Charlottesville, Virginia, 22904-4119, United States of America, (38.0463307, -78.49019255288053, 0.0)),\n 'RUGBY AVE 1627 VA, US': Location(1627, Rugby Avenue, Greenfields, Charlottesville, Virginia, 22904-4119, United States of America, (38.0462715, -78.48972362953415, 0.0)),\n 'RUGBY AVE 1625 VA, US': Location(1625, Rugby Avenue, Greenfields, Charlottesville, Virginia, 22904-4119, United States of America, (38.0462646, -78.48943117416, 0.0)),\n 'RUGBY AVE 1623 VA, US': Location(1623, Rugby Avenue, Greenfields, Charlottesville, Virginia, 22904-4119, United States of America, (38.04619835, -78.48915857786504, 0.0)),\n 'RUGBY AVE 1621 VA, US': Location(1621, Rugby Avenue, Greenfields, Charlottesville, Virginia, 22904-4119, United States of America, (38.0461984, -78.48887384552165, 0.0)),\n 'HERNDON RD 1105 VA, US': Location(Herndon Road, Brockroad, Spotsylvania County, Virginia, United States of America, (38.2959, -77.680161, 0.0)),\n 'RUGBY AVE 1549 VA, US': Location(1549, Rugby Avenue, Greenfields, Charlottesville, Virginia, 22904-4119, United States of America, (38.0461443, -78.48811309067892, 0.0)),\n 'RUGBY AVE 1545 VA, US': Location(1545, Rugby Avenue, Greenfields, Charlottesville, Virginia, 22904-4119, United States of America, (38.046086, -78.48781459304985, 0.0)),\n 'RUGBY AVE 1600 VA, US': Location(1600, Rugby Avenue, Greenfields, Charlottesville, Virginia, 22904-4119, United States of America, (38.04550935, -78.48807868777595, 0.0)),\n 'RUGBY AVE 1606 VA, US': Location(1606, Rugby Avenue, Greenfields, Charlottesville, Virginia, 22904-4119, United States of America, (38.045618950000005, -78.48831960533536, 0.0)),\n 'RUGBY AVE 1610 VA, US': Location(1610, Rugby Avenue, Greenfields, Charlottesville, Virginia, 22904-4119, United States of America, (38.04562735, -78.48864084071425, 0.0)),\n 'RUGBY AVE 1620 VA, US': Location(1620, Rugby Avenue, Greenfields, Charlottesville, Virginia, 22904-4119, United States of America, (38.045673050000005, -78.48898747139572, 0.0)),\n 'RUGBY AVE 1618 VA, US': Location(1618, Rugby Avenue, Greenfields, Charlottesville, Virginia, 22904-4119, United States of America, (38.0457442, -78.48933663760309, 0.0)),\n 'RUGBY AVE 1626 VA, US': Location(1626, Rugby Avenue, Greenfields, Charlottesville, Virginia, 22904-4119, United States of America, (38.045732349999994, -78.48965026826062, 0.0)),\n 'WESTWOOD RD 1621 VA, US': Location(1621, Westwood Road, Greenfields, Charlottesville, Virginia, 22903, United States of America, (38.04527985, -78.48973685089913, 0.0)),\n 'WESTWOOD RD 1619 VA, US': Location(1619, Westwood Road, Greenfields, Charlottesville, Virginia, 22903, United States of America, (38.045207000000005, -78.48944411025423, 0.0)),\n 'WESTWOOD RD 1617 VA, US': Location(1617, Westwood Road, Greenfields, Charlottesville, Virginia, 22903, United States of America, (38.04518485, -78.48906457421523, 0.0)),\n 'WESTWOOD RD 1615 VA, US': Location(1615, Westwood Road, Greenfields, Charlottesville, Virginia, 22903, United States of America, (38.0451464, -78.48872130584226, 0.0)),\n 'WESTWOOD RD 1611 VA, US': Location(1611, Westwood Road, Greenfields, Charlottesville, Virginia, 22903, United States of America, (38.0450809, -78.48839652040839, 0.0)),\n 'WESTWOOD RD 1610 VA, US': Location(1610, Westwood Road, Greenfields, Charlottesville, Virginia, 22903, United States of America, (38.044554, -78.48846453425526, 0.0)),\n 'WESTWOOD RD 1614 VA, US': Location(1614, Westwood Road, Greenfields, Charlottesville, Virginia, 22903, United States of America, (38.04459285, -78.48881699102441, 0.0)),\n 'WESTWOOD RD 1618 VA, US': Location(1618, Westwood Road, Greenfields, Charlottesville, Virginia, 22903, United States of America, (38.044593, -78.48910584008834, 0.0))}"
     },
     "metadata": {},
     "execution_count": 46
    }
   ],
   "source": [
    "coords"
   ]
  }
 ]
}