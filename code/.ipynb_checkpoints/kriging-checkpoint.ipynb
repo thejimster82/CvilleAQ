{
 "cells": [
  {
   "cell_type": "code",
   "execution_count": 5,
   "metadata": {},
   "outputs": [],
   "source": [
    "import pandas as pd\n",
    "import numpy as np\n",
    "import pykrige as pk\n",
    "import pykrige.kriging_tools as kt\n",
    "from pykrige.ok import OrdinaryKriging"
   ]
  },
  {
   "cell_type": "code",
   "execution_count": 10,
   "metadata": {},
   "outputs": [],
   "source": [
    "# latitude coords from 38.00 to 38.08\n",
    "# longitute coords from -78.53 to -78.45\n",
    "\n",
    "data = np.array([[.01998, .0564, 1.707865], #3\n",
    "                 [.03562, .0381, 3.800915], #5\n",
    "                 [.02758, .01481, 1.611111], #6\n",
    "                 [.02557, .01339, 1.977870], #7\n",
    "                 [.04745, .04697, 2.125756], #8\n",
    "                 [.02576, .0607, 2.442308], #9\n",
    "                 [.03061, .05094, 2.935176], #10\n",
    "                 [.02988, .04595, 1.951181]]) #11\n",
    "                  \n",
    "gridx = np.arange(0.0, 0.8, 0.05)\n",
    "gridy = np.arange(0.0, 0.8, 0.05)"
   ]
  },
  {
   "cell_type": "code",
   "execution_count": 14,
   "metadata": {},
   "outputs": [
    {
     "data": {
      "image/png": "[encoded data removed]",
      "text/plain": [
       "<Figure size 432x288 with 1 Axes>"
      ]
     },
     "metadata": {
      "needs_background": "light"
     },
     "output_type": "display_data"
    }
   ],
   "source": [
    "OK = OrdinaryKriging(data[:, 0], data[:, 1], data[:, 2], variogram_model='linear',\n",
    "                     verbose=False, enable_plotting=True)"
   ]
  },
  {
   "cell_type": "code",
   "execution_count": 15,
   "metadata": {},
   "outputs": [],
   "source": [
    "z, ss = OK.execute('grid', gridx, gridy)"
   ]
  },
  {
   "cell_type": "code",
   "execution_count": 16,
   "metadata": {},
   "outputs": [
    {
     "data": {
      "text/plain": [
       "masked_array(\n",
       "  data=[[2.319022749986511, 2.319022749991796, 2.3190227499971,\n",
       "         2.3190227499984024, 2.3190227499989247, 2.319022749999198,\n",
       "         2.319022749999365, 2.3190227499994758, 2.3190227499995566,\n",
       "         2.319022749999616, 2.3190227499996627, 2.3190227499997,\n",
       "         2.3190227499997302, 2.319022749999757, 2.3190227499997778,\n",
       "         2.3190227499997955],\n",
       "        [2.3190227499952747, 2.319022750005714, 2.3190227500028224,\n",
       "         2.319022750001778, 2.319022750001293, 2.319022750001019,\n",
       "         2.319022750000841, 2.319022750000717, 2.3190227500006264,\n",
       "         2.3190227500005576, 2.319022750000502, 2.3190227500004568,\n",
       "         2.319022750000421, 2.319022750000391, 2.319022750000363,\n",
       "         2.3190227500003413],\n",
       "        [2.3190227499994545, 2.3190227500040645, 2.3190227500045393,\n",
       "         2.319022750003688, 2.3190227500029574, 2.319022750002436,\n",
       "         2.3190227500020604, 2.319022750001781, 2.3190227500015683,\n",
       "         2.3190227500013996, 2.319022750001265, 2.319022750001153,\n",
       "         2.31902275000106, 2.3190227500009812, 2.319022750000913,\n",
       "         2.3190227500008542],\n",
       "        [2.31902275000072, 2.3190227500032914, 2.319022750004355,\n",
       "         2.319022750004269, 2.319022750003823, 2.319022750003356,\n",
       "         2.3190227500029517, 2.319022750002617, 2.319022750002343,\n",
       "         2.3190227500021177, 2.31902275000193, 2.3190227500017717,\n",
       "         2.319022750001636, 2.3190227500015204, 2.319022750001419,\n",
       "         2.319022750001331],\n",
       "        [2.3190227500012104, 2.319022750002977, 2.319022750003997,\n",
       "         2.3190227500042857, 2.319022750004156, 2.319022750003863,\n",
       "         2.3190227500035347, 2.3190227500032226, 2.3190227500029432,\n",
       "         2.3190227500026994, 2.3190227500024867, 2.319022750002303,\n",
       "         2.3190227500021416, 2.319022750001999, 2.3190227500018756,\n",
       "         2.319022750001764],\n",
       "        [2.3190227500014644, 2.3190227500028078, 2.31902275000371,\n",
       "         2.3190227500041396, 2.319022750004218, 2.3190227500040947,\n",
       "         2.3190227500038767, 2.3190227500036302, 2.3190227500033838,\n",
       "         2.3190227500031497, 2.3190227500029383, 2.319022750002746,\n",
       "         2.3190227500025733, 2.3190227500024183, 2.3190227500022806,\n",
       "         2.319022750002154],\n",
       "        [2.319022750001618, 2.3190227500027008, 2.319022750003495,\n",
       "         2.319022750003966, 2.319022750004163, 2.3190227500041667,\n",
       "         2.3190227500040557, 2.3190227500038842, 2.319022750003689,\n",
       "         2.319022750003487, 2.3190227500032905, 2.3190227500031058,\n",
       "         2.319022750002935, 2.3190227500027767, 2.319022750002631,\n",
       "         2.3190227500024987],\n",
       "        [2.3190227500017215, 2.3190227500026275, 2.31902275000333,\n",
       "         2.3190227500038025, 2.319022750004062, 2.319022750004154,\n",
       "         2.3190227500041285, 2.31902275000403, 2.3190227500038874,\n",
       "         2.319022750003726, 2.319022750003557, 2.319022750003391,\n",
       "         2.3190227500032288, 2.319022750003075, 2.3190227500029317,\n",
       "         2.319022750002797],\n",
       "        [2.319022750001794, 2.319022750002574, 2.319022750003202,\n",
       "         2.3190227500036587, 2.319022750003948, 2.3190227500040965,\n",
       "         2.3190227500041374, 2.319022750004099, 2.31902275000401,\n",
       "         2.319022750003889, 2.3190227500037532, 2.3190227500036094,\n",
       "         2.3190227500034637, 2.3190227500033216, 2.319022750003185,\n",
       "         2.319022750003053],\n",
       "        [2.3190227500018494, 2.319022750002533, 2.3190227500031,\n",
       "         2.3190227500035356, 2.3190227500038376, 2.3190227500040215,\n",
       "         2.319022750004107, 2.319022750004119, 2.319022750004076,\n",
       "         2.319022750003996, 2.3190227500038914, 2.3190227500037732,\n",
       "         2.3190227500036475, 2.31902275000352, 2.319022750003393,\n",
       "         2.31902275000327],\n",
       "        [2.319022750001892, 2.319022750002501, 2.3190227500030174,\n",
       "         2.319022750003428, 2.3190227500037333, 2.319022750003939,\n",
       "         2.3190227500040583, 2.3190227500041067, 2.3190227500041023,\n",
       "         2.319022750004057, 2.3190227500039837, 2.3190227500038914,\n",
       "         2.319022750003787, 2.319022750003678, 2.319022750003564,\n",
       "         2.31902275000345],\n",
       "        [2.3190227500019267, 2.3190227500024756, 2.3190227500029486,\n",
       "         2.3190227500033367, 2.3190227500036387, 2.319022750003855,\n",
       "         2.3190227500039966, 2.319022750004075, 2.3190227500041014,\n",
       "         2.3190227500040868, 2.319022750004041, 2.3190227500039744,\n",
       "         2.3190227500038922, 2.3190227500038, 2.319022750003701,\n",
       "         2.3190227500035987],\n",
       "        [2.3190227500019542, 2.3190227500024543, 2.319022750002891,\n",
       "         2.319022750003257, 2.3190227500035516, 2.3190227500037746,\n",
       "         2.319022750003931, 2.3190227500040312, 2.319022750004081,\n",
       "         2.319022750004093, 2.319022750004074, 2.319022750004028,\n",
       "         2.319022750003966, 2.3190227500038922, 2.319022750003809,\n",
       "         2.3190227500037195],\n",
       "        [2.3190227500019787, 2.3190227500024365, 2.319022750002841,\n",
       "         2.3190227500031884, 2.319022750003473, 2.3190227500036986,\n",
       "         2.3190227500038647, 2.319022750003981, 2.319022750004051,\n",
       "         2.3190227500040828, 2.319022750004084, 2.3190227500040606,\n",
       "         2.3190227500040175, 2.31902275000396, 2.319022750003892,\n",
       "         2.319022750003817],\n",
       "        [2.3190227500019978, 2.319022750002421, 2.3190227500028,\n",
       "         2.3190227500031275, 2.319022750003403, 2.3190227500036267,\n",
       "         2.3190227500038003, 2.319022750003927, 2.319022750004012,\n",
       "         2.3190227500040614, 2.3190227500040805, 2.3190227500040765,\n",
       "         2.3190227500040494, 2.319022750004008, 2.319022750003954,\n",
       "         2.319022750003892],\n",
       "        [2.3190227500020146, 2.319022750002408, 2.3190227500027625,\n",
       "         2.319022750003074, 2.3190227500033402, 2.3190227500035605,\n",
       "         2.319022750003737, 2.319022750003871, 2.3190227500039677,\n",
       "         2.3190227500040326, 2.3190227500040663, 2.319022750004077,\n",
       "         2.3190227500040663, 2.319022750004039, 2.319022750004,\n",
       "         2.319022750003951]],\n",
       "  mask=[[False, False, False, False, False, False, False, False, False,\n",
       "         False, False, False, False, False, False, False],\n",
       "        [False, False, False, False, False, False, False, False, False,\n",
       "         False, False, False, False, False, False, False],\n",
       "        [False, False, False, False, False, False, False, False, False,\n",
       "         False, False, False, False, False, False, False],\n",
       "        [False, False, False, False, False, False, False, False, False,\n",
       "         False, False, False, False, False, False, False],\n",
       "        [False, False, False, False, False, False, False, False, False,\n",
       "         False, False, False, False, False, False, False],\n",
       "        [False, False, False, False, False, False, False, False, False,\n",
       "         False, False, False, False, False, False, False],\n",
       "        [False, False, False, False, False, False, False, False, False,\n",
       "         False, False, False, False, False, False, False],\n",
       "        [False, False, False, False, False, False, False, False, False,\n",
       "         False, False, False, False, False, False, False],\n",
       "        [False, False, False, False, False, False, False, False, False,\n",
       "         False, False, False, False, False, False, False],\n",
       "        [False, False, False, False, False, False, False, False, False,\n",
       "         False, False, False, False, False, False, False],\n",
       "        [False, False, False, False, False, False, False, False, False,\n",
       "         False, False, False, False, False, False, False],\n",
       "        [False, False, False, False, False, False, False, False, False,\n",
       "         False, False, False, False, False, False, False],\n",
       "        [False, False, False, False, False, False, False, False, False,\n",
       "         False, False, False, False, False, False, False],\n",
       "        [False, False, False, False, False, False, False, False, False,\n",
       "         False, False, False, False, False, False, False],\n",
       "        [False, False, False, False, False, False, False, False, False,\n",
       "         False, False, False, False, False, False, False],\n",
       "        [False, False, False, False, False, False, False, False, False,\n",
       "         False, False, False, False, False, False, False]],\n",
       "  fill_value=1e+20)"
      ]
     },
     "execution_count": 16,
     "metadata": {},
     "output_type": "execute_result"
    }
   ],
   "source": [
    "z"
   ]
  },
  {
   "cell_type": "code",
   "execution_count": null,
   "metadata": {},
   "outputs": [],
   "source": []
  }
 ],
 "metadata": {
  "kernelspec": {
   "display_name": "Python 3",
   "language": "python",
   "name": "python3"
  },
  "language_info": {
   "codemirror_mode": {
    "name": "ipython",
    "version": 3
   },
   "file_extension": ".py",
   "mimetype": "text/x-python",
   "name": "python",
   "nbconvert_exporter": "python",
   "pygments_lexer": "ipython3",
   "version": "3.6.8"
  }
 },
 "nbformat": 4,
 "nbformat_minor": 2
}
